{
  "nbformat": 4,
  "nbformat_minor": 0,
  "metadata": {
    "colab": {
      "provenance": [],
      "authorship_tag": "ABX9TyPlmetBqrtiIKD87Vagj7ch",
      "include_colab_link": true
    },
    "kernelspec": {
      "name": "python3",
      "display_name": "Python 3"
    },
    "language_info": {
      "name": "python"
    }
  },
  "cells": [
    {
      "cell_type": "markdown",
      "metadata": {
        "id": "view-in-github",
        "colab_type": "text"
      },
      "source": [
        "<a href=\"https://colab.research.google.com/github/derkaiser9423/PythonPracticeProject/blob/master/Assigment_1_Session_4_s8091335.ipynb\" target=\"_parent\"><img src=\"https://colab.research.google.com/assets/colab-badge.svg\" alt=\"Open In Colab\"/></a>"
      ]
    },
    {
      "cell_type": "code",
      "source": [
        "from IPython import get_ipython\n",
        "get_ipython().magic('reset -sf')"
      ],
      "metadata": {
        "id": "qvTJqGoSpoa9"
      },
      "execution_count": 3,
      "outputs": []
    },
    {
      "cell_type": "markdown",
      "source": [
        "For tasks in Session 4, Pandas, Seaborn, and Matplotlib libraries are good to go with.\n",
        "The code above imports and uses the get_python function to reset the current environment. It is optional.\n",
        "\n",
        "This notebook does not have the \"print(data.head())\". Just open the variable inspector window in Spyder, Anaconda notebook, Google Colab notebook."
      ],
      "metadata": {
        "id": "wYKtHYI2vMl8"
      }
    },
    {
      "cell_type": "code",
      "execution_count": 12,
      "metadata": {
        "id": "mYnHITxMRmkV",
        "colab": {
          "base_uri": "https://localhost:8080/"
        },
        "outputId": "7185368b-8c2d-431d-e1bd-8c5106dc8448"
      },
      "outputs": [
        {
          "output_type": "stream",
          "name": "stderr",
          "text": [
            "[nltk_data] Downloading package vader_lexicon to /root/nltk_data...\n",
            "[nltk_data]   Package vader_lexicon is already up-to-date!\n"
          ]
        }
      ],
      "source": [
        "import pandas as pd\n",
        "import seaborn as sns\n",
        "import matplotlib.pyplot as plt\n",
        "import nltk\n",
        "nltk.download('vader_lexicon')\n",
        "from nltk.sentiment.vader import SentimentIntensityAnalyzer\n",
        "sentiment = SentimentIntensityAnalyzer()"
      ]
    },
    {
      "cell_type": "markdown",
      "source": [
        "Import:\n",
        "\n",
        "* Pandas for dataframe manipulation.\n",
        "\n",
        "* Seaborn in collaboration with Matplotlib for more attractive visualization.\n",
        "\n",
        "* Nltk with \"Vader lexicon\" dictionary and \"SentimentIntensityAnalyzer\" class for sentiment analysis.\n",
        "\n",
        "First, assign the SentimentIntensityAnalyzer class to \"sentiment\" variable."
      ],
      "metadata": {
        "id": "cKa9ddLZvnKE"
      }
    },
    {
      "cell_type": "code",
      "source": [
        "df = pd.read_excel('Food_dataset.xlsx')"
      ],
      "metadata": {
        "id": "2c_jpWbGXOpn"
      },
      "execution_count": 7,
      "outputs": []
    },
    {
      "cell_type": "markdown",
      "source": [
        "Import the CSV dataset and print out first 5 rows for checking (just to ensure)."
      ],
      "metadata": {
        "id": "ehaRQhdGwV00"
      }
    },
    {
      "cell_type": "code",
      "source": [
        "df['other feedback'] = df['other feedback'].astype(str)"
      ],
      "metadata": {
        "id": "jSsCi57YxKgR"
      },
      "execution_count": 8,
      "outputs": []
    },
    {
      "cell_type": "markdown",
      "source": [
        "Because the assignment requires to analyze the particulate feedback, so the \"other feedback\" will be the main target for sentiment analysis. This is also the reason for using \"SentimentIntensityAnalyzer\" class in the NLTK library. It's simple and convenient to use in this case."
      ],
      "metadata": {
        "id": "2tBa8BfTwf8i"
      }
    },
    {
      "cell_type": "code",
      "source": [
        "nltk.download('stopwords')\n",
        "stemmer = nltk.SnowballStemmer(\"english\")\n",
        "from nltk.corpus import stopwords\n",
        "import string\n",
        "stopword=set(stopwords.words('english'))"
      ],
      "metadata": {
        "id": "WaV6OG4IYQxt",
        "colab": {
          "base_uri": "https://localhost:8080/"
        },
        "outputId": "746922b9-f404-4d77-e72c-be214abdfec0"
      },
      "execution_count": 9,
      "outputs": [
        {
          "output_type": "stream",
          "name": "stderr",
          "text": [
            "[nltk_data] Downloading package stopwords to /root/nltk_data...\n",
            "[nltk_data]   Unzipping corpora/stopwords.zip.\n"
          ]
        }
      ]
    },
    {
      "cell_type": "markdown",
      "source": [
        "Stop words are word that do not bring significant values to the sentiment analysis process.\n",
        "\n",
        "First, download the corpus of stop words (a list of stop words) in NLTK library. Then, creates a SnowballStemmer object for the English language. It is good to reduce insignificant words in a string (or a feedback). Next, the third line will import the \"stopwords\" module from NLTK library. It functions with the stop words corpus. Next, import the \"string\" library to ensure all string handling functions work smoothly. Last, creates a set of stopwords from the English stopwords corpus and assign that set structure to the \"stopword\" variable.\n",
        "\n",
        "(A lot of stop-word names. Don't be confused.)"
      ],
      "metadata": {
        "id": "ELB82v7cxDWG"
      }
    },
    {
      "cell_type": "code",
      "source": [
        "def clean(text):\n",
        "    text = [word for word in text.split(' ') if word not in stopword]\n",
        "    text=\" \".join(text)\n",
        "    text = [stemmer.stem(word) for word in text.split(' ')]\n",
        "    text=\" \".join(text)\n",
        "    return text"
      ],
      "metadata": {
        "id": "Uu6DdnzquOjB"
      },
      "execution_count": 15,
      "outputs": []
    },
    {
      "cell_type": "markdown",
      "source": [
        "Buil a function to clean the text (string). First, lowercase all letters within the string. Next, remove all stop words, including:\n",
        "\n",
        "* square brackets and their contents\n",
        "* URLs\n",
        "* HTML tags\n",
        "* punctuation\n",
        "* newline characters\n",
        "* words that contain numbers\n",
        "\n",
        "In this case, we just need the stop words list."
      ],
      "metadata": {
        "id": "miELry0vzlTV"
      }
    },
    {
      "cell_type": "code",
      "source": [
        "df[\"other feedback\"] = df[\"other feedback\"].apply(clean)"
      ],
      "metadata": {
        "id": "CDw5V6vtuQDR"
      },
      "execution_count": 16,
      "outputs": []
    },
    {
      "cell_type": "markdown",
      "source": [
        "Apply the \"clean\" function above to all rows in the \"other feedback\" column."
      ],
      "metadata": {
        "id": "Mu04AOq5z7nz"
      }
    },
    {
      "cell_type": "code",
      "source": [
        "df[\"other feedback score\"] = [sentiment.polarity_scores(i)['compound'] for i in df['other feedback']]"
      ],
      "metadata": {
        "id": "xwrbOEqGYVvf"
      },
      "execution_count": 18,
      "outputs": []
    },
    {
      "cell_type": "markdown",
      "source": [
        "Create a new column to store the sentiment score after analyzing the text in \"other feedback\" column. \"sentiment.polarity_scores\" calls and applies the polarity_score function, which take \"i\" (text) to analyze and return the result. Here, it takes the compound score (argument 'compounr') only. The list comprehension \"for i in df['other feedback']\" is a good practice to go with."
      ],
      "metadata": {
        "id": "4knuOvfQ0Jqt"
      }
    },
    {
      "cell_type": "code",
      "source": [
        "df_mean_groups = df.groupby('suplier location ')['other feedback score'].mean()"
      ],
      "metadata": {
        "id": "WNPzFV_82zd7"
      },
      "execution_count": 21,
      "outputs": []
    },
    {
      "cell_type": "markdown",
      "source": [
        "To answer the question \"identify state which has more positive feedback\", it is necessary to check the mean value of each group of locations.\n",
        "\n",
        "Create a new dataframe \"df_mean_groups\" to avoid any error. Use the groupby() function to group all the \"other feedback value\" by groups of values in the \"supplier location ' column. Then, apply the mean() function to calculate the mean value of each group."
      ],
      "metadata": {
        "id": "9DfIMTbh3DzM"
      }
    },
    {
      "cell_type": "code",
      "source": [
        "most_positive_state = df_mean_groups.sort_values(ascending=False).index[0]\n",
        "print(most_positive_state)"
      ],
      "metadata": {
        "colab": {
          "base_uri": "https://localhost:8080/"
        },
        "id": "MwwedrJV3WlY",
        "outputId": "61ff86e5-13d6-48e7-f5a7-727c477c6ff1"
      },
      "execution_count": 26,
      "outputs": [
        {
          "output_type": "stream",
          "name": "stdout",
          "text": [
            "VIC\n"
          ]
        }
      ]
    },
    {
      "cell_type": "markdown",
      "source": [
        "Use the sort_values() function to sort the mean value by groups. The argument \"ascending=False\" makes the highest mean value at the top row. The index() method takes the first row, which is the location with the most positive feedback (the highest mean value).\n",
        "\n",
        "Alright, just print the result out. **VIC.**"
      ],
      "metadata": {
        "id": "4KqMOwuD79Qt"
      }
    },
    {
      "cell_type": "markdown",
      "source": [
        "However, there is still the \"product feedback\" column, which contains the string (most likely the 5-level Likert scale). It is better to be careful now than to be sorry later. That column is analyzed also for comparison of the outcome."
      ],
      "metadata": {
        "id": "g4UGedBI9WJk"
      }
    },
    {
      "cell_type": "code",
      "source": [
        "df['product_feedback_score']=''"
      ],
      "metadata": {
        "id": "1Jg6Y-zDrC0x"
      },
      "execution_count": 30,
      "outputs": []
    },
    {
      "cell_type": "markdown",
      "source": [
        "Create a new colum \"product_feecback_score\" to store the score of the feedback."
      ],
      "metadata": {
        "id": "ed57tU8R99gk"
      }
    },
    {
      "cell_type": "code",
      "source": [
        "df.loc[df['product feedback'] == 'Extremely Poor', 'product_feedback_score'] = -1\n",
        "df.loc[df['product feedback'] == 'strongly diagree', 'product_feedback_score'] = -1\n",
        "df.loc[df['product feedback'] == 'disagree', 'product_feedback_score'] = -1\n",
        "df.loc[df['product feedback'] == 'agree', 'product_feedback_score'] = 1\n",
        "df.loc[df['product feedback'] == 'strongly agree', 'product_feedback_score'] = 1"
      ],
      "metadata": {
        "id": "GDRN-zqyrRUM"
      },
      "execution_count": 47,
      "outputs": []
    },
    {
      "cell_type": "markdown",
      "source": [
        "Because on that \"product feedback\" there is only the \"negative\" feedback (Extremely Poor, stronly disagree, disagree) and \"positive\" feedback (agree, stronly agree), the loc() function is applied to assign \"-1\" value for negative feedback (or all types of disagree) and \"1\" value for positive feedback (all types of agree)."
      ],
      "metadata": {
        "id": "53LLF8sg-9-U"
      }
    },
    {
      "cell_type": "code",
      "source": [
        "df_mean_groups_alt = df.groupby('suplier location ')['product_feedback_score'].mean()"
      ],
      "metadata": {
        "id": "7rAQhN6k40HO"
      },
      "execution_count": 48,
      "outputs": []
    },
    {
      "cell_type": "markdown",
      "source": [
        "The same convention as above, the locations are group together and means of their feedback score are calculated."
      ],
      "metadata": {
        "id": "qctRd4Un-_Kv"
      }
    },
    {
      "cell_type": "code",
      "source": [
        "most_positive_state_alt = df_mean_groups_alt.sort_values(ascending=False).index[0]\n",
        "print(most_positive_state_alt)"
      ],
      "metadata": {
        "colab": {
          "base_uri": "https://localhost:8080/"
        },
        "id": "D5FKPkOw5O7r",
        "outputId": "a92fbb34-f5b4-4ecf-c2fb-35f24c0b846e"
      },
      "execution_count": 49,
      "outputs": [
        {
          "output_type": "stream",
          "name": "stdout",
          "text": [
            "VIC\n"
          ]
        }
      ]
    },
    {
      "cell_type": "markdown",
      "source": [
        "The same convention as above, the mean values are sort descendingly and the first value (first row) is taken and printed out."
      ],
      "metadata": {
        "id": "dr38sYsj_O6j"
      }
    },
    {
      "cell_type": "code",
      "source": [
        "correlation = df['product_feedback_score'].corr(df['other feedback score'], method='spearman')\n",
        "\n",
        "print(\"Spearman rank correlation coefficient:\", correlation)"
      ],
      "metadata": {
        "colab": {
          "base_uri": "https://localhost:8080/"
        },
        "id": "hkWustjC1iCr",
        "outputId": "fd909c8a-cabc-490d-d4a5-ad6cea413817"
      },
      "execution_count": 50,
      "outputs": [
        {
          "output_type": "stream",
          "name": "stdout",
          "text": [
            "Spearman rank correlation coefficient: -0.018321835989154475\n"
          ]
        }
      ]
    },
    {
      "cell_type": "markdown",
      "source": [
        "For convenience yet carefulness in general correlation coefficient, the Spearman's rank correlation coefficient is applied to calculate the correlation coefficient between two columns \"product_feedback_score\" (transformed from the Likert-scale) and \"other feedback score\" (calculated by SentimentIntensityAnalyzer class of NLTK library). The Spearman coefficient is -0.018, implying that these columns, as variables, are not stastistically related to each other.\n",
        "\n"
      ],
      "metadata": {
        "id": "wyXE8_-J_dj2"
      }
    },
    {
      "cell_type": "code",
      "source": [
        "sns.barplot(x=df['Item_id'], y=df['product_feedback_score'], data=df)\n",
        "plt.show()"
      ],
      "metadata": {
        "colab": {
          "base_uri": "https://localhost:8080/",
          "height": 450
        },
        "id": "ynkWm0f2_fdl",
        "outputId": "2c344274-499d-4098-da41-43945bbbb16e"
      },
      "execution_count": 55,
      "outputs": [
        {
          "output_type": "display_data",
          "data": {
            "text/plain": [
              "<Figure size 640x480 with 1 Axes>"
            ],
            "image/png": "[encoded data removed]"
          },
          "metadata": {}
        }
      ]
    },
    {
      "cell_type": "code",
      "source": [
        "sns.barplot(x=df['Item_id'], y=df['other feedback score'], data=df)\n",
        "plt.show()"
      ],
      "metadata": {
        "colab": {
          "base_uri": "https://localhost:8080/",
          "height": 450
        },
        "id": "W5RjldeEA1a2",
        "outputId": "31839054-93c7-4bb4-c86f-4585e623a312"
      },
      "execution_count": 56,
      "outputs": [
        {
          "output_type": "display_data",
          "data": {
            "text/plain": [
              "<Figure size 640x480 with 1 Axes>"
            ],
            "image/png": "[encoded data removed]"
          },
          "metadata": {}
        }
      ]
    },
    {
      "cell_type": "markdown",
      "source": [
        "The bar charts above visualize the distribution of scores. Regardless to the \"might-not-inaccurate\" scoring from analyzing steps above, the Spearman coefficient score near zero means that those two ways of scoring and especially the two feedback columns are not significantly relevant to each other. It's worth discussing further for business strategy."
      ],
      "metadata": {
        "id": "k_ZRcHIyBaJB"
      }
    },
    {
      "cell_type": "code",
      "source": [
        "mean_price_by_locations = df.groupby('suplier location ')['sold price '].mean().reset_index()"
      ],
      "metadata": {
        "id": "OoVPzidfCeTG"
      },
      "execution_count": 64,
      "outputs": []
    },
    {
      "cell_type": "markdown",
      "source": [
        "To answer the question \"Does product price varies city to city?\", it is necessary to check the mean value of each group of locations.\n",
        "\n",
        "Create a new dataframe \"mean_price_by_locations\" to avoid any error. Use the groupby() function to group all the \"sold price\" by groups of values in the \"supplier location ' column. The reason of using the sold price instead of purchase price is based on the assumption that all suppliers strictly comply with ACCC, meaning that the supplier price cannot vary from buyer to buyer. Only the purchase price may be affected by different conditions in each states. Then, apply the mean() function to calculate the mean value of each group."
      ],
      "metadata": {
        "id": "9nGH84DBDqXm"
      }
    },
    {
      "cell_type": "code",
      "source": [
        "sns.barplot(x=mean_price_by_locations['suplier location '], y=mean_price_by_locations['sold price '], data=mean_price_by_locations)\n",
        "plt.xlabel('Location')\n",
        "plt.ylabel('Sold price')\n",
        "plt.title('Sold price comparison by locations')\n",
        "plt.xticks(rotation=45, ha='right')\n",
        "plt.tight_layout()\n",
        "# Show the chart\n",
        "plt.show()"
      ],
      "metadata": {
        "colab": {
          "base_uri": "https://localhost:8080/",
          "height": 487
        },
        "id": "TV3oIAMpE8r4",
        "outputId": "d2ac47c2-2568-4809-e7bc-604dd9f75aa1"
      },
      "execution_count": 73,
      "outputs": [
        {
          "output_type": "display_data",
          "data": {
            "text/plain": [
              "<Figure size 640x480 with 1 Axes>"
            ],
            "image/png": "[encoded data removed]"
          },
          "metadata": {}
        }
      ]
    }
  ]
}