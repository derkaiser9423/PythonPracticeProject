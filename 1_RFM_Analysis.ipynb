{
  "nbformat": 4,
  "nbformat_minor": 0,
  "metadata": {
    "colab": {
      "provenance": [],
      "mount_file_id": "173H4F0KQGU0gHdgupPLi9rBgeDFoqcd-",
      "authorship_tag": "ABX9TyNPfrbHUY2VH7R7Ub/kbnj3",
      "include_colab_link": true
    },
    "kernelspec": {
      "name": "python3",
      "display_name": "Python 3"
    },
    "language_info": {
      "name": "python"
    }
  },
  "cells": [
    {
      "cell_type": "markdown",
      "metadata": {
        "id": "view-in-github",
        "colab_type": "text"
      },
      "source": [
        "<a href=\"https://colab.research.google.com/github/derkaiser9423/PythonPracticeProject/blob/master/1_RFM_Analysis.ipynb\" target=\"_parent\"><img src=\"https://colab.research.google.com/assets/colab-badge.svg\" alt=\"Open In Colab\"/></a>"
      ]
    },
    {
      "cell_type": "markdown",
      "source": [
        "RFM Analysis focuses on data manipulation using Pandas, and it also gives a glance at the Plotly library for visualization in Python."
      ],
      "metadata": {
        "id": "Uo4ovEMEuVJe"
      }
    },
    {
      "cell_type": "code",
      "source": [
        "from IPython import get_ipython\n",
        "get_ipython().magic('reset -sf')"
      ],
      "metadata": {
        "id": "CiM0TkvH1vEj"
      },
      "execution_count": null,
      "outputs": []
    },
    {
      "cell_type": "markdown",
      "source": [
        "*This* code will remove all variables. It a good start to monitor variable's changes.\n",
        "First, it imports the IPython kernel object. Then, it calls the \"get_ipython()\" function, which returns the IPython kernel object.\n",
        "The magic() method allows us to execute the IPython magic commands. The magic's command \"reset -sf\" deletes all variables for a whole new session."
      ],
      "metadata": {
        "id": "C5RHZXE_pbHQ"
      }
    },
    {
      "cell_type": "code",
      "source": [
        "import pandas as pd"
      ],
      "metadata": {
        "id": "uqyLj8kWpc59"
      },
      "execution_count": null,
      "outputs": []
    },
    {
      "cell_type": "markdown",
      "source": [
        "Import the Pandas library. Pandas uses the common DataFrame object. The \"as\" method is to replace the Pandas modules into the alias \"pd\". It is a common practice."
      ],
      "metadata": {
        "id": "UuEU9zD7pgP4"
      }
    },
    {
      "cell_type": "code",
      "source": [
        "import plotly.express as px\n",
        "import plotly.io as pio\n",
        "import plotly.graph_objects as go\n",
        "pio.templates.default = \"plotly_white\""
      ],
      "metadata": {
        "id": "iOinprRApieP"
      },
      "execution_count": null,
      "outputs": []
    },
    {
      "cell_type": "markdown",
      "source": [
        "Import three modules from the Plotly library.\n",
        "\n",
        "\n",
        "1. **import plotly.express as px:** import the \"express\" module (a high-level API for interactive visualization), and assign it an alias of \"px\".\n",
        "2.  **import plotly.io as pio:** import the \"io\" module for exporting visualizations to different formats, and assign it an alias of \"pio\".\n",
        "3. **import plotly.graph_objects as go:** import the \"graph_objects\" module (a low-level API for creating custom visualization), and assign it an alias of \"go\".\n",
        "4. **pio.templates.default = \"plotly_white\":** set the default template for Plotly visualization to \"plotly_white\".\n",
        "\n"
      ],
      "metadata": {
        "id": "eZXlMX0GpjnP"
      }
    },
    {
      "cell_type": "code",
      "source": [
        "data = pd.read_csv('/content/drive/MyDrive/Colab Notebooks/Data_for_practice/rfm_data.csv')"
      ],
      "metadata": {
        "id": "YjSjuZQZpj6y"
      },
      "execution_count": null,
      "outputs": []
    },
    {
      "cell_type": "markdown",
      "source": [
        "Use the \"pd.read_csv()\" function in Pandas to read the CSV file from the directory and assign the dataset (tabular one) into the data variable (DataFrame object in Pandas).\n",
        "\n",
        "Actually, the \"pd.read_csv()\" function has two arguments:\n",
        "pd.read_csv('Arg_1', Agr_2)\n",
        "1. Argument 1: the directory to the target file. The directory is in string format. So that don't forget the pair ' '.\n",
        "2. Argument 2: the column names with data type, stored as a dictionary. Its syntax is:\n",
        "\n",
        "dtype = {'Name of column 1': 'int64', 'Name of column 2': 'str', 'Name of column 3': 'float64',...}\n",
        "\n",
        "The code above neglects the second argument because the tabular dataset is cleaned, without missing or invalid values. However, it is a better practice to fulfill both arguments in the \"pd.read_csv()\" function.\n",
        "\n",
        "So, the recommended code should be likely the following (datetime is not a data type but an object instead):\n"
      ],
      "metadata": {
        "id": "Kq4nBHDSptye"
      }
    },
    {
      "cell_type": "code",
      "source": [
        "data = pd.read_csv('/content/drive/MyDrive/Colab Notebooks/Data_for_practice/rfm_data.csv', dtype={'CustomerID': 'int64', 'PurchaseDate': 'str', 'ProductInformation': 'str', 'OrderID': 'int64', 'Location': 'str'})"
      ],
      "metadata": {
        "id": "XPreVR8t9ppD"
      },
      "execution_count": null,
      "outputs": []
    },
    {
      "cell_type": "markdown",
      "source": [
        "The weak point of the second one (full two arguments) is that we may encounter the datetime format. Python does not have datetime format, but as an object instead. So, we need to read the datetime as string, and convert it to the datetime format later.\n",
        "\n",
        "The data DataFrame has **6 columns and 1000 rows** (refer to the variable inspection window for more details)."
      ],
      "metadata": {
        "id": "D7-OlyaJGQOV"
      }
    },
    {
      "cell_type": "code",
      "source": [
        "from datetime import datetime\n",
        "# Convert 'Purchase Date' into datetime format\n",
        "data['PurchaseDate'] = pd.to_datetime(data['PurchaseDate'])"
      ],
      "metadata": {
        "id": "JNTlwrQ3p6xp"
      },
      "execution_count": null,
      "outputs": []
    },
    {
      "cell_type": "markdown",
      "source": [
        "As mentioned above, we need to convert all values in the \"PurchaseDate\" column into datetime format (datetime object in Python) for further process.\n",
        "\n",
        "1. **from datetime import datetime:** import the \"datetime\" from the standard library of Python.\n",
        "2. data['PurchaseDate'] points to the \"PurchaseDate\" in the \"data\" DataFrame.\n",
        "3. pd.to_datetime(data['PurchaseDate]) is the function in Pandas to convert a string into a datetime object. Here we convert all string value in the \"PurchaseDate\" column into datetime objects (YYYY-MM-DD format).\n",
        "\n",
        "**MORE ABOUT THE to_datetime() FUNCTION:**\n",
        "\n",
        "`pd.to_datetime(arg, errors='raise', dayfirst=False, yearfirst=False, utc=None, format=None, exact=True, unit=None, infer_datetime_format=False, origin='unix', cache=False)`\n",
        "\n",
        "The arguments of the to_datetime() function are as follows:\n",
        "\n",
        "* arg: The string or object to be converted to a datetime object.\n",
        "* errors: The behavior in case of parsing errors. Possible values are raise, ignore, and coerce.\n",
        "* dayfirst: If True, the day is parsed first, otherwise the month is parsed first. This is only relevant for ambiguous formats, such as '03/08/2023'.\n",
        "* yearfirst: If True, the year is parsed first, otherwise the month and day are parsed first. This is only relevant for ambiguous formats, such as '2023-03-08'.\n",
        "* utc: If True, the parsed date is assumed to be in UTC.\n",
        "* format: A format string that specifies the format of the string to be parsed.\n",
        "* exact: If True, the string must match the format string exactly. If False, the string can be a more general representation of a date, such as 'last Monday'.\n",
        "* unit: The unit of the timedelta in the string. Possible values are 's', 'm', 'h', 'd', 'w', 'M', 'y'.\n",
        "* infer_datetime_format: If True, the function will attempt to infer the format of the string to be parsed.\n",
        "* origin: The origin of the time axis. Possible values are 'unix' and * 'microseconds'.\n",
        "* cache: If True, the results of the function will be cached."
      ],
      "metadata": {
        "id": "hi-KCkbwqvep"
      }
    },
    {
      "cell_type": "markdown",
      "source": [
        "BUT, there is still another function that can convert to datetime format. It is strptime() function. However, it is not as powerful as the to_datetime() function, yet it is more portable as it is the built-in function in the standard library of Python.\n",
        "\n",
        "We can run this code. There will be the same result:\n",
        "\n",
        "`dt = datetime.datetime.strptime('data['PurchaseDate']', '%Y-%m-%d %H:%M:%S')`\n",
        "\n",
        "However, the strptime() function require a more specific datetime format (in string format originally). So, it is more convenient to parse the datetime by using to_datetime() function in Pandas."
      ],
      "metadata": {
        "id": "Elc6BlO4ZAwm"
      }
    },
    {
      "cell_type": "code",
      "source": [
        "# Calculate Recency\n",
        "data['Recency'] = (datetime.now().date() - data['PurchaseDate'].dt.date).dt.days"
      ],
      "metadata": {
        "id": "PxuCXEt6qyfK"
      },
      "execution_count": null,
      "outputs": []
    },
    {
      "cell_type": "markdown",
      "source": [
        "Create a new column named \"Recency\" (here we create a new column by assign calculated values into new column).\n",
        "\n",
        "The \"datetime.now().date()\" function (Python built-in) return the current date as a datetime object (the date() method extracts the date only.\n",
        "\n",
        "The same function (in Pandas) to extract the date from the datetime object is \"dt.date\".\n",
        "\n",
        "The subtraction returns the numeric result from the difference between two dates.\n",
        "\n",
        "The dt.days() function simply calculate the number of days between two dates, regardless of the different months.\n",
        "\n"
      ],
      "metadata": {
        "id": "WGKvVsKjq1Zv"
      }
    },
    {
      "cell_type": "code",
      "source": [
        "#Calculate Frequency\n",
        "frequency_data = data.groupby('CustomerID')['OrderID'].count().reset_index()"
      ],
      "metadata": {
        "id": "E0LcuSKQq2Dr"
      },
      "execution_count": null,
      "outputs": []
    },
    {
      "cell_type": "markdown",
      "source": [
        "To calculate the frequency, we have to group the OrderID by each CustomerID. By doing so, the whole tabular dataset will be changed. To avoid that, we need to create a new dataframe called \"frequency_data\". That is the reason to assign new dataframe into the new \"frequency_data\" variable (that new dataframe caused by the groupby() function).\n",
        "\n",
        "data.groupby() applies the groupby() function to the \"data\" dataframe. It creates new dataframe, which first colum is the groups of different CustomerIDs. The following column named \"OrderID\" (same to the \"data\" dataframe). By continous applying the count() function, there is no numerical number of OrderID in the \"frequency_data\", but the number of the OrderID of each group (row) of CustomerID.\n",
        "\n",
        "The reset_index() function puts the CustomerID in the first column. It helps the next merging step.\n",
        "\n",
        "By using count() function, we finish calculating the frequency."
      ],
      "metadata": {
        "id": "o2H-zDKxq5F1"
      }
    },
    {
      "cell_type": "code",
      "source": [
        "frequency_data.rename(columns={'OrderID': 'Frequency'}, inplace=True)"
      ],
      "metadata": {
        "id": "D8z-TQymq5fF"
      },
      "execution_count": null,
      "outputs": []
    },
    {
      "cell_type": "markdown",
      "source": [
        "We need to rename the \"OrderID\" column in the \"frequency_data\" to \"Frequency\" to reflect its true identity. Prepare to merge."
      ],
      "metadata": {
        "id": "XEEqELhfrE8N"
      }
    },
    {
      "cell_type": "code",
      "source": [
        "data = data.merge(frequency_data, on='CustomerID', how='left')"
      ],
      "metadata": {
        "id": "E3ZoHVIrrFYi"
      },
      "execution_count": null,
      "outputs": []
    },
    {
      "cell_type": "markdown",
      "source": [
        "The merge() function will join the \"frequency_data\" dataframe into \"data\" dataframte according to CustomerID values (rows).\n",
        "\n",
        "The argument \"on='CustomerID'\" argument indicates that two table will merge accordingly to the \"CustomerID\" column.\n",
        "\n",
        "The argument \"how='left'\" indicates that all rows will be added regardless matching issue.\n",
        "\n",
        "**THERE IS 1 MORE COLUMN IN DATA DATAFRAME. (6 to 7)**"
      ],
      "metadata": {
        "id": "Jjz3iedJrIyh"
      }
    },
    {
      "cell_type": "code",
      "source": [
        "#Calculate Monetary Value\n",
        "monetary_data = data.groupby('CustomerID')['TransactionAmount'].sum().reset_index()"
      ],
      "metadata": {
        "id": "9QpA_E3grJHE"
      },
      "execution_count": null,
      "outputs": []
    },
    {
      "cell_type": "markdown",
      "source": [
        "The same idea to calculating Frequency values. Using groupby() makes us create new dataframe to avoid changing the current dataframe."
      ],
      "metadata": {
        "id": "Adymyj3orQYC"
      }
    },
    {
      "cell_type": "code",
      "source": [
        "monetary_data.rename(columns={'TransactionAmount': 'MonetaryValue'}, inplace=True)"
      ],
      "metadata": {
        "id": "v_fVPNqurQ6w"
      },
      "execution_count": null,
      "outputs": []
    },
    {
      "cell_type": "markdown",
      "source": [
        "Here we go. Because we group all \"TransactionAmount\" values according to the CustomerIDs, there is the column name \"TransactionAmount\" in the new dataframe \"monetary_data\". That is the reason why we need to rename that column before merging that dataframe into the current \"data\" dataframe."
      ],
      "metadata": {
        "id": "yMaKNekKrS93"
      }
    },
    {
      "cell_type": "code",
      "source": [
        "data = data.merge(monetary_data, on='CustomerID', how='left')"
      ],
      "metadata": {
        "id": "4hDFDPyrrTXk"
      },
      "execution_count": null,
      "outputs": []
    },
    {
      "cell_type": "markdown",
      "source": [
        "Ok, let's merge. Base accordingly to CustomerID values, keep the current \"data\" dataframe, neglect the unmatching values.\n",
        "\n",
        "**THERE IS 1 MORE COLUMN IN DATA DATAFRAME. (7 to 8)**"
      ],
      "metadata": {
        "id": "ZndeaXr0ra_Y"
      }
    },
    {
      "cell_type": "code",
      "source": [
        "# Define scoring criteria for each RFM value\n",
        "recency_scores = [5, 4, 3, 2, 1] # Higher score for lower recency value\n",
        "frequency_scores = [1, 2, 3, 4, 5] # Lower score for lower frequency value\n",
        "monetary_scores = [1, 2, 3, 4, 5] # Lower score for lower monetary value"
      ],
      "metadata": {
        "id": "CYnerm68rbSW"
      },
      "execution_count": null,
      "outputs": []
    },
    {
      "cell_type": "markdown",
      "source": [
        "Create ordinal lists for ranking the R,F,M values."
      ],
      "metadata": {
        "id": "-sgWZZ28rd-w"
      }
    },
    {
      "cell_type": "code",
      "source": [
        "# Calculate RFM scores\n",
        "data['RecencyScore'] = pd.cut(data['Recency'], bins=5, labels=recency_scores)\n",
        "data['FrequencyScore'] = pd.cut(data['Frequency'], bins=5, labels=frequency_scores)\n",
        "data['MonetaryScore'] = pd.cut(data['MonetaryValue'], bins=5, labels=monetary_scores)"
      ],
      "metadata": {
        "id": "8i_P3zd2rehN"
      },
      "execution_count": null,
      "outputs": []
    },
    {
      "cell_type": "markdown",
      "source": [
        "Create three new columns by assigning new columns with the extracted values from pd.cut() function.\n",
        "\n",
        "pd.cut() function is in Pandas library. There are 3 arguments:\n",
        "1. from where the data will be cut: data['Recency']\n",
        "2. number of bins: 5 values (5 categories)\n",
        "3. labels of bins: from the 3 lists above\n",
        "\n",
        "**THERE IS 3 MORE COLUMN IN DATA DATAFRAME. (8 to 11)**"
      ],
      "metadata": {
        "id": "9uXJyXKArgVW"
      }
    },
    {
      "cell_type": "code",
      "source": [
        "# Convert RFM scores to numeric type from categorical type\n",
        "data['RecencyScore'] = data['RecencyScore'].astype(int)\n",
        "data['FrequencyScore'] = data['FrequencyScore'].astype(int)\n",
        "data['MonetaryScore'] = data['MonetaryScore'].astype(int)"
      ],
      "metadata": {
        "id": "-zo7VPborgoj"
      },
      "execution_count": null,
      "outputs": []
    },
    {
      "cell_type": "markdown",
      "source": [
        "Because the pd.cut() function takes the values in the 3 columns and assign them into new 3 values with labels in string formet, we need to convert those labeled values into integer format."
      ],
      "metadata": {
        "id": "IwB8QeWGrihX"
      }
    },
    {
      "cell_type": "code",
      "source": [
        "# Calculate RFM score by sum up 3 individual scores\n",
        "data['RFM_Score'] = data['RecencyScore'] + data['FrequencyScore'] + data['MonetaryScore']"
      ],
      "metadata": {
        "id": "LI_nij6GrjB4"
      },
      "execution_count": null,
      "outputs": []
    },
    {
      "cell_type": "markdown",
      "source": [
        "Creating new column in the \"data\" dataframe by calculating and then assigning RFM scores into that new column.\n",
        "\n",
        "**THERE IS 1 MORE COLUMN IN DATA DATAFRAME. (11 to 12, excluding the index column)**"
      ],
      "metadata": {
        "id": "ZprmuMtCrlMe"
      }
    },
    {
      "cell_type": "code",
      "source": [
        "# Create RFM segments based on RFM score\n",
        "segment_labels = ['Low-Value', 'Mid-Value', 'High-Value']\n",
        "data['Value Segment'] = pd.cut(data['RFM_Score'], 3, labels=segment_labels) #Attention, there is no \"bins\" but \"q\" in the argument"
      ],
      "metadata": {
        "id": "JdY-4zc9rlbZ"
      },
      "execution_count": null,
      "outputs": []
    },
    {
      "cell_type": "markdown",
      "source": [
        "The same pd.cut() function used above.\n",
        "\n",
        "Create a list to label categories in the pd.cut() function.\n",
        "\n",
        "**THERE IS 1 MORE COLUMN IN DATA DATAFRAME. (12 to 13)**"
      ],
      "metadata": {
        "id": "HZabqWFwrnpx"
      }
    },
    {
      "cell_type": "code",
      "source": [
        "# RFM segment distribution\n",
        "segment_counts = data['Value Segment'].value_counts().reset_index()"
      ],
      "metadata": {
        "id": "nFO_EMngroCP"
      },
      "execution_count": null,
      "outputs": []
    },
    {
      "cell_type": "markdown",
      "source": [
        "Create a new dataframe called \"segment_counts\" to store the results of the value_counts() function. That function counts each value in the \"Value Segment\" column.\n",
        "\n",
        "reset_index() function makes the Value Segment to the first column.\n",
        "\n",
        "**BE CAREFUL!**\n",
        "\n",
        "The **count()** function in Pandas counts all non-null value in a column.\n",
        "\n",
        "The **value_counts()** function in Pandas counts all distinct values within a column.\n",
        "\n",
        "And both functions return a new dataframe, so BE CAREFUL!"
      ],
      "metadata": {
        "id": "SnjcRzTvrqBM"
      }
    },
    {
      "cell_type": "code",
      "source": [
        "segment_counts.columns = ['Value Segment', 'Count']"
      ],
      "metadata": {
        "id": "W8EYJSb1rqgO"
      },
      "execution_count": null,
      "outputs": []
    },
    {
      "cell_type": "markdown",
      "source": [
        "Because the new dataframe \"segment_counts\" has two columns called \"index\" and \"Value Segment\" so we need to change it."
      ],
      "metadata": {
        "id": "cYojKqH7rssQ"
      }
    },
    {
      "cell_type": "code",
      "source": [
        "# RFM Segment Distribution\n",
        "segment_counts = data['Value Segment'].value_counts().reset_index()\n",
        "segment_counts.columns = ['Value Segment', 'Count']\n",
        "\n",
        "pastel_colors = px.colors.qualitative.Pastel\n",
        "\n",
        "# Create the bar chart\n",
        "fig_segment_dist = px.bar(segment_counts, x='Value Segment', y='Count',\n",
        "                          color='Value Segment', color_discrete_sequence=pastel_colors,\n",
        "                          title='RFM Value Segment Distribution')\n",
        "\n",
        "# Update the layout\n",
        "fig_segment_dist.update_layout(xaxis_title='RFM Value Segment',\n",
        "                              yaxis_title='Count',\n",
        "                              showlegend=False)\n",
        "\n",
        "# Show the figure\n",
        "fig_segment_dist.show()"
      ],
      "metadata": {
        "id": "103O1CvTrtBH",
        "colab": {
          "base_uri": "https://localhost:8080/",
          "height": 542
        },
        "outputId": "1b35f6b0-bf8e-47b5-f0ca-eead532a1827"
      },
      "execution_count": null,
      "outputs": [
        {
          "output_type": "display_data",
          "data": {
            "text/html": [
              "<html>\n",
              "<head><meta charset=\"utf-8\" /></head>\n",
              "<body>\n",
              "    <div>            <script src=\"https://cdnjs.cloudflare.com/ajax/libs/mathjax/2.7.5/MathJax.js?config=TeX-AMS-MML_SVG\"></script><script type=\"text/javascript\">if (window.MathJax && window.MathJax.Hub && window.MathJax.Hub.Config) {window.MathJax.Hub.Config({SVG: {font: \"STIX-Web\"}});}</script>                <script type=\"text/javascript\">window.PlotlyConfig = {MathJaxConfig: 'local'};</script>\n",
              "        <script src=\"https://cdn.plot.ly/plotly-2.18.2.min.js\"></script>                <div id=\"79ebc71e-6c0e-423d-a961-5c52413d2ace\" class=\"plotly-graph-div\" style=\"height:525px; width:100%;\"></div>            <script type=\"text/javascript\">                                    window.PLOTLYENV=window.PLOTLYENV || {};                                    if (document.getElementById(\"79ebc71e-6c0e-423d-a961-5c52413d2ace\")) {                    Plotly.newPlot(                        \"79ebc71e-6c0e-423d-a961-5c52413d2ace\",                        [{\"alignmentgroup\":\"True\",\"hovertemplate\":\"Value Segment=%{x}<br>Count=%{y}<extra></extra>\",\"legendgroup\":\"Low-Value\",\"marker\":{\"color\":\"rgb(102, 197, 204)\",\"pattern\":{\"shape\":\"\"}},\"name\":\"Low-Value\",\"offsetgroup\":\"Low-Value\",\"orientation\":\"v\",\"showlegend\":true,\"textposition\":\"auto\",\"x\":[\"Low-Value\"],\"xaxis\":\"x\",\"y\":[821],\"yaxis\":\"y\",\"type\":\"bar\"},{\"alignmentgroup\":\"True\",\"hovertemplate\":\"Value Segment=%{x}<br>Count=%{y}<extra></extra>\",\"legendgroup\":\"Mid-Value\",\"marker\":{\"color\":\"rgb(246, 207, 113)\",\"pattern\":{\"shape\":\"\"}},\"name\":\"Mid-Value\",\"offsetgroup\":\"Mid-Value\",\"orientation\":\"v\",\"showlegend\":true,\"textposition\":\"auto\",\"x\":[\"Mid-Value\"],\"xaxis\":\"x\",\"y\":[172],\"yaxis\":\"y\",\"type\":\"bar\"},{\"alignmentgroup\":\"True\",\"hovertemplate\":\"Value Segment=%{x}<br>Count=%{y}<extra></extra>\",\"legendgroup\":\"High-Value\",\"marker\":{\"color\":\"rgb(248, 156, 116)\",\"pattern\":{\"shape\":\"\"}},\"name\":\"High-Value\",\"offsetgroup\":\"High-Value\",\"orientation\":\"v\",\"showlegend\":true,\"textposition\":\"auto\",\"x\":[\"High-Value\"],\"xaxis\":\"x\",\"y\":[7],\"yaxis\":\"y\",\"type\":\"bar\"}],                        {\"template\":{\"data\":{\"histogram2dcontour\":[{\"type\":\"histogram2dcontour\",\"colorbar\":{\"outlinewidth\":0,\"ticks\":\"\"},\"colorscale\":[[0.0,\"#0d0887\"],[0.1111111111111111,\"#46039f\"],[0.2222222222222222,\"#7201a8\"],[0.3333333333333333,\"#9c179e\"],[0.4444444444444444,\"#bd3786\"],[0.5555555555555556,\"#d8576b\"],[0.6666666666666666,\"#ed7953\"],[0.7777777777777778,\"#fb9f3a\"],[0.8888888888888888,\"#fdca26\"],[1.0,\"#f0f921\"]]}],\"choropleth\":[{\"type\":\"choropleth\",\"colorbar\":{\"outlinewidth\":0,\"ticks\":\"\"}}],\"histogram2d\":[{\"type\":\"histogram2d\",\"colorbar\":{\"outlinewidth\":0,\"ticks\":\"\"},\"colorscale\":[[0.0,\"#0d0887\"],[0.1111111111111111,\"#46039f\"],[0.2222222222222222,\"#7201a8\"],[0.3333333333333333,\"#9c179e\"],[0.4444444444444444,\"#bd3786\"],[0.5555555555555556,\"#d8576b\"],[0.6666666666666666,\"#ed7953\"],[0.7777777777777778,\"#fb9f3a\"],[0.8888888888888888,\"#fdca26\"],[1.0,\"#f0f921\"]]}],\"heatmap\":[{\"type\":\"heatmap\",\"colorbar\":{\"outlinewidth\":0,\"ticks\":\"\"},\"colorscale\":[[0.0,\"#0d0887\"],[0.1111111111111111,\"#46039f\"],[0.2222222222222222,\"#7201a8\"],[0.3333333333333333,\"#9c179e\"],[0.4444444444444444,\"#bd3786\"],[0.5555555555555556,\"#d8576b\"],[0.6666666666666666,\"#ed7953\"],[0.7777777777777778,\"#fb9f3a\"],[0.8888888888888888,\"#fdca26\"],[1.0,\"#f0f921\"]]}],\"heatmapgl\":[{\"type\":\"heatmapgl\",\"colorbar\":{\"outlinewidth\":0,\"ticks\":\"\"},\"colorscale\":[[0.0,\"#0d0887\"],[0.1111111111111111,\"#46039f\"],[0.2222222222222222,\"#7201a8\"],[0.3333333333333333,\"#9c179e\"],[0.4444444444444444,\"#bd3786\"],[0.5555555555555556,\"#d8576b\"],[0.6666666666666666,\"#ed7953\"],[0.7777777777777778,\"#fb9f3a\"],[0.8888888888888888,\"#fdca26\"],[1.0,\"#f0f921\"]]}],\"contourcarpet\":[{\"type\":\"contourcarpet\",\"colorbar\":{\"outlinewidth\":0,\"ticks\":\"\"}}],\"contour\":[{\"type\":\"contour\",\"colorbar\":{\"outlinewidth\":0,\"ticks\":\"\"},\"colorscale\":[[0.0,\"#0d0887\"],[0.1111111111111111,\"#46039f\"],[0.2222222222222222,\"#7201a8\"],[0.3333333333333333,\"#9c179e\"],[0.4444444444444444,\"#bd3786\"],[0.5555555555555556,\"#d8576b\"],[0.6666666666666666,\"#ed7953\"],[0.7777777777777778,\"#fb9f3a\"],[0.8888888888888888,\"#fdca26\"],[1.0,\"#f0f921\"]]}],\"surface\":[{\"type\":\"surface\",\"colorbar\":{\"outlinewidth\":0,\"ticks\":\"\"},\"colorscale\":[[0.0,\"#0d0887\"],[0.1111111111111111,\"#46039f\"],[0.2222222222222222,\"#7201a8\"],[0.3333333333333333,\"#9c179e\"],[0.4444444444444444,\"#bd3786\"],[0.5555555555555556,\"#d8576b\"],[0.6666666666666666,\"#ed7953\"],[0.7777777777777778,\"#fb9f3a\"],[0.8888888888888888,\"#fdca26\"],[1.0,\"#f0f921\"]]}],\"mesh3d\":[{\"type\":\"mesh3d\",\"colorbar\":{\"outlinewidth\":0,\"ticks\":\"\"}}],\"scatter\":[{\"fillpattern\":{\"fillmode\":\"overlay\",\"size\":10,\"solidity\":0.2},\"type\":\"scatter\"}],\"parcoords\":[{\"type\":\"parcoords\",\"line\":{\"colorbar\":{\"outlinewidth\":0,\"ticks\":\"\"}}}],\"scatterpolargl\":[{\"type\":\"scatterpolargl\",\"marker\":{\"colorbar\":{\"outlinewidth\":0,\"ticks\":\"\"}}}],\"bar\":[{\"error_x\":{\"color\":\"#2a3f5f\"},\"error_y\":{\"color\":\"#2a3f5f\"},\"marker\":{\"line\":{\"color\":\"white\",\"width\":0.5},\"pattern\":{\"fillmode\":\"overlay\",\"size\":10,\"solidity\":0.2}},\"type\":\"bar\"}],\"scattergeo\":[{\"type\":\"scattergeo\",\"marker\":{\"colorbar\":{\"outlinewidth\":0,\"ticks\":\"\"}}}],\"scatterpolar\":[{\"type\":\"scatterpolar\",\"marker\":{\"colorbar\":{\"outlinewidth\":0,\"ticks\":\"\"}}}],\"histogram\":[{\"marker\":{\"pattern\":{\"fillmode\":\"overlay\",\"size\":10,\"solidity\":0.2}},\"type\":\"histogram\"}],\"scattergl\":[{\"type\":\"scattergl\",\"marker\":{\"colorbar\":{\"outlinewidth\":0,\"ticks\":\"\"}}}],\"scatter3d\":[{\"type\":\"scatter3d\",\"line\":{\"colorbar\":{\"outlinewidth\":0,\"ticks\":\"\"}},\"marker\":{\"colorbar\":{\"outlinewidth\":0,\"ticks\":\"\"}}}],\"scattermapbox\":[{\"type\":\"scattermapbox\",\"marker\":{\"colorbar\":{\"outlinewidth\":0,\"ticks\":\"\"}}}],\"scatterternary\":[{\"type\":\"scatterternary\",\"marker\":{\"colorbar\":{\"outlinewidth\":0,\"ticks\":\"\"}}}],\"scattercarpet\":[{\"type\":\"scattercarpet\",\"marker\":{\"colorbar\":{\"outlinewidth\":0,\"ticks\":\"\"}}}],\"carpet\":[{\"aaxis\":{\"endlinecolor\":\"#2a3f5f\",\"gridcolor\":\"#C8D4E3\",\"linecolor\":\"#C8D4E3\",\"minorgridcolor\":\"#C8D4E3\",\"startlinecolor\":\"#2a3f5f\"},\"baxis\":{\"endlinecolor\":\"#2a3f5f\",\"gridcolor\":\"#C8D4E3\",\"linecolor\":\"#C8D4E3\",\"minorgridcolor\":\"#C8D4E3\",\"startlinecolor\":\"#2a3f5f\"},\"type\":\"carpet\"}],\"table\":[{\"cells\":{\"fill\":{\"color\":\"#EBF0F8\"},\"line\":{\"color\":\"white\"}},\"header\":{\"fill\":{\"color\":\"#C8D4E3\"},\"line\":{\"color\":\"white\"}},\"type\":\"table\"}],\"barpolar\":[{\"marker\":{\"line\":{\"color\":\"white\",\"width\":0.5},\"pattern\":{\"fillmode\":\"overlay\",\"size\":10,\"solidity\":0.2}},\"type\":\"barpolar\"}],\"pie\":[{\"automargin\":true,\"type\":\"pie\"}]},\"layout\":{\"autotypenumbers\":\"strict\",\"colorway\":[\"#636efa\",\"#EF553B\",\"#00cc96\",\"#ab63fa\",\"#FFA15A\",\"#19d3f3\",\"#FF6692\",\"#B6E880\",\"#FF97FF\",\"#FECB52\"],\"font\":{\"color\":\"#2a3f5f\"},\"hovermode\":\"closest\",\"hoverlabel\":{\"align\":\"left\"},\"paper_bgcolor\":\"white\",\"plot_bgcolor\":\"white\",\"polar\":{\"bgcolor\":\"white\",\"angularaxis\":{\"gridcolor\":\"#EBF0F8\",\"linecolor\":\"#EBF0F8\",\"ticks\":\"\"},\"radialaxis\":{\"gridcolor\":\"#EBF0F8\",\"linecolor\":\"#EBF0F8\",\"ticks\":\"\"}},\"ternary\":{\"bgcolor\":\"white\",\"aaxis\":{\"gridcolor\":\"#DFE8F3\",\"linecolor\":\"#A2B1C6\",\"ticks\":\"\"},\"baxis\":{\"gridcolor\":\"#DFE8F3\",\"linecolor\":\"#A2B1C6\",\"ticks\":\"\"},\"caxis\":{\"gridcolor\":\"#DFE8F3\",\"linecolor\":\"#A2B1C6\",\"ticks\":\"\"}},\"coloraxis\":{\"colorbar\":{\"outlinewidth\":0,\"ticks\":\"\"}},\"colorscale\":{\"sequential\":[[0.0,\"#0d0887\"],[0.1111111111111111,\"#46039f\"],[0.2222222222222222,\"#7201a8\"],[0.3333333333333333,\"#9c179e\"],[0.4444444444444444,\"#bd3786\"],[0.5555555555555556,\"#d8576b\"],[0.6666666666666666,\"#ed7953\"],[0.7777777777777778,\"#fb9f3a\"],[0.8888888888888888,\"#fdca26\"],[1.0,\"#f0f921\"]],\"sequentialminus\":[[0.0,\"#0d0887\"],[0.1111111111111111,\"#46039f\"],[0.2222222222222222,\"#7201a8\"],[0.3333333333333333,\"#9c179e\"],[0.4444444444444444,\"#bd3786\"],[0.5555555555555556,\"#d8576b\"],[0.6666666666666666,\"#ed7953\"],[0.7777777777777778,\"#fb9f3a\"],[0.8888888888888888,\"#fdca26\"],[1.0,\"#f0f921\"]],\"diverging\":[[0,\"#8e0152\"],[0.1,\"#c51b7d\"],[0.2,\"#de77ae\"],[0.3,\"#f1b6da\"],[0.4,\"#fde0ef\"],[0.5,\"#f7f7f7\"],[0.6,\"#e6f5d0\"],[0.7,\"#b8e186\"],[0.8,\"#7fbc41\"],[0.9,\"#4d9221\"],[1,\"#276419\"]]},\"xaxis\":{\"gridcolor\":\"#EBF0F8\",\"linecolor\":\"#EBF0F8\",\"ticks\":\"\",\"title\":{\"standoff\":15},\"zerolinecolor\":\"#EBF0F8\",\"automargin\":true,\"zerolinewidth\":2},\"yaxis\":{\"gridcolor\":\"#EBF0F8\",\"linecolor\":\"#EBF0F8\",\"ticks\":\"\",\"title\":{\"standoff\":15},\"zerolinecolor\":\"#EBF0F8\",\"automargin\":true,\"zerolinewidth\":2},\"scene\":{\"xaxis\":{\"backgroundcolor\":\"white\",\"gridcolor\":\"#DFE8F3\",\"linecolor\":\"#EBF0F8\",\"showbackground\":true,\"ticks\":\"\",\"zerolinecolor\":\"#EBF0F8\",\"gridwidth\":2},\"yaxis\":{\"backgroundcolor\":\"white\",\"gridcolor\":\"#DFE8F3\",\"linecolor\":\"#EBF0F8\",\"showbackground\":true,\"ticks\":\"\",\"zerolinecolor\":\"#EBF0F8\",\"gridwidth\":2},\"zaxis\":{\"backgroundcolor\":\"white\",\"gridcolor\":\"#DFE8F3\",\"linecolor\":\"#EBF0F8\",\"showbackground\":true,\"ticks\":\"\",\"zerolinecolor\":\"#EBF0F8\",\"gridwidth\":2}},\"shapedefaults\":{\"line\":{\"color\":\"#2a3f5f\"}},\"annotationdefaults\":{\"arrowcolor\":\"#2a3f5f\",\"arrowhead\":0,\"arrowwidth\":1},\"geo\":{\"bgcolor\":\"white\",\"landcolor\":\"white\",\"subunitcolor\":\"#C8D4E3\",\"showland\":true,\"showlakes\":true,\"lakecolor\":\"white\"},\"title\":{\"x\":0.05},\"mapbox\":{\"style\":\"light\"}}},\"xaxis\":{\"anchor\":\"y\",\"domain\":[0.0,1.0],\"title\":{\"text\":\"RFM Value Segment\"},\"categoryorder\":\"array\",\"categoryarray\":[\"Low-Value\",\"Mid-Value\",\"High-Value\"]},\"yaxis\":{\"anchor\":\"x\",\"domain\":[0.0,1.0],\"title\":{\"text\":\"Count\"}},\"legend\":{\"title\":{\"text\":\"Value Segment\"},\"tracegroupgap\":0},\"title\":{\"text\":\"RFM Value Segment Distribution\"},\"barmode\":\"relative\",\"showlegend\":false},                        {\"responsive\": true}                    ).then(function(){\n",
              "                            \n",
              "var gd = document.getElementById('79ebc71e-6c0e-423d-a961-5c52413d2ace');\n",
              "var x = new MutationObserver(function (mutations, observer) {{\n",
              "        var display = window.getComputedStyle(gd).display;\n",
              "        if (!display || display === 'none') {{\n",
              "            console.log([gd, 'removed!']);\n",
              "            Plotly.purge(gd);\n",
              "            observer.disconnect();\n",
              "        }}\n",
              "}});\n",
              "\n",
              "// Listen for the removal of the full notebook cells\n",
              "var notebookContainer = gd.closest('#notebook-container');\n",
              "if (notebookContainer) {{\n",
              "    x.observe(notebookContainer, {childList: true});\n",
              "}}\n",
              "\n",
              "// Listen for the clearing of the current output cell\n",
              "var outputEl = gd.closest('.output');\n",
              "if (outputEl) {{\n",
              "    x.observe(outputEl, {childList: true});\n",
              "}}\n",
              "\n",
              "                        })                };                            </script>        </div>\n",
              "</body>\n",
              "</html>"
            ]
          },
          "metadata": {}
        }
      ]
    },
    {
      "cell_type": "code",
      "source": [
        "# Create a new column for RFM Customer Segments\n",
        "data['RFM Customer Segments'] = \"\"\n",
        "\n",
        "# Assign RFM segments based on the RFM score\n",
        "data.loc[data['RFM_Score'] >= 9, 'RFM Customer Segments'] = 'Champions'\n",
        "data.loc[(data['RFM_Score'] >= 6) & (data['RFM_Score'] < 9), 'RFM Customer Segments'] = \"Potential Loyalists\"\n",
        "data.loc[(data['RFM_Score'] >= 5) & (data['RFM_Score'] < 6), 'RFM Customer Segments'] = \"At Risk Customers\"\n",
        "data.loc[(data['RFM_Score'] >= 4) & (data['RFM_Score'] < 5), 'RFM Customer Segments'] = \"Can't Lose\"\n",
        "data.loc[(data['RFM_Score'] >= 3) & (data['RFM_Score'] < 4), 'RFM Customer Segments'] = \"Lost\"\n",
        "\n",
        "# Print the updated data with RFM segments\n",
        "print(data[['CustomerID', 'RFM Customer Segments']])"
      ],
      "metadata": {
        "id": "-Z_Op_0pr0ab",
        "colab": {
          "base_uri": "https://localhost:8080/"
        },
        "outputId": "c4e899ec-ac64-4a0c-8149-6ad3ba177a0a"
      },
      "execution_count": null,
      "outputs": [
        {
          "output_type": "stream",
          "name": "stdout",
          "text": [
            "     CustomerID RFM Customer Segments\n",
            "0          8814            Can't Lose\n",
            "1          2188                  Lost\n",
            "2          4608                  Lost\n",
            "3          2559                  Lost\n",
            "4          9482            Can't Lose\n",
            "..          ...                   ...\n",
            "995        2970   Potential Loyalists\n",
            "996        6669   Potential Loyalists\n",
            "997        8836   Potential Loyalists\n",
            "998        1440   Potential Loyalists\n",
            "999        4759   Potential Loyalists\n",
            "\n",
            "[1000 rows x 2 columns]\n"
          ]
        }
      ]
    },
    {
      "cell_type": "markdown",
      "source": [
        "Create a new column in the \"data\" dataframe called \"RFM Customer Segments\". The RFM Customer segments (5 categories) will be assign to each CustomerID accordingly to its \"RFM_Score\" values in the column.\n",
        "\n",
        "By using loc() function, we assign the result (5 RFM segments) according into the new \"RFM Customer Segment\" column.\n",
        "\n",
        "The loc['column name'] selects all rows in 'column name' column. It is more specific.\n",
        "\n",
        "Meanwhile, the loc('column name') is more concise. There is a chance that a number is the column name.\n",
        "\n",
        "**EXPLAIN LOC[] FUNCTION:**\n",
        "It is more convenient than iloc(), but it may be slower than the iloc() in case of large dateframe.\n",
        "\n",
        "`df.loc[row_labels, column_labels]`\n",
        "\n",
        "In the code above, the argument of \"row_labels\" means that the loc() function will look for row (x position) that satisfy the condition(s), to the y position of the \"RFM Customer Segment\" column. It means that loc() function will move the cursor to the row (x position) accordingly to the condition, and the column (y position) is the \"RFM Customer Segment\". The = operator assigns the strings (customer segments)."
      ],
      "metadata": {
        "id": "IW0ikIZwr3An"
      }
    },
    {
      "cell_type": "code",
      "source": [
        "# RFM analysis\n",
        "segment_product_counts = data.groupby(['Value Segment', 'RFM Customer Segments']).size().reset_index(name='Count')"
      ],
      "metadata": {
        "id": "IiduY9Xtr3gD"
      },
      "execution_count": null,
      "outputs": []
    },
    {
      "cell_type": "markdown",
      "source": [],
      "metadata": {
        "id": "4xiN3tbFr_np"
      }
    },
    {
      "cell_type": "code",
      "source": [
        "segment_product_counts = segment_product_counts.sort_values('Count', ascending=False)"
      ],
      "metadata": {
        "id": "95zu9Qtwr_-R"
      },
      "execution_count": null,
      "outputs": []
    },
    {
      "cell_type": "markdown",
      "source": [],
      "metadata": {
        "id": "Yx5m3KzBsCLn"
      }
    },
    {
      "cell_type": "code",
      "source": [
        "# Analyze the distribution of RFM values within the Champions segment\n",
        "# Filter the data to include only the customers in the Champions segment\n",
        "champions_segment = data[data['RFM Customer Segments'] == 'Champions']\n",
        "\n",
        "fig = go.Figure()\n",
        "fig.add_trace(go.Box(y=champions_segment['RecencyScore'], name='Recency'))\n",
        "fig.add_trace(go.Box(y=champions_segment['FrequencyScore'], name='Frequency'))\n",
        "fig.add_trace(go.Box(y=champions_segment['MonetaryScore'], name='Monetary'))\n",
        "\n",
        "fig.update_layout(title='Distribution of RFM Values within Champions Segment',\n",
        "                  yaxis_title='RFM Value',\n",
        "                  showlegend=True)\n",
        "\n",
        "fig.show()"
      ],
      "metadata": {
        "id": "63Oxrk4AsCuU"
      },
      "execution_count": null,
      "outputs": []
    },
    {
      "cell_type": "markdown",
      "source": [],
      "metadata": {
        "id": "irXC3u0csHkp"
      }
    },
    {
      "cell_type": "code",
      "source": [
        "# Analyze the correlation of the Recency, Frequency, Monetary scores within the Champions segment\n",
        "correlation_matrix = champions_segment[['RecencyScore', 'FrequencyScore', 'MonetaryScore']].corr()\n",
        "\n",
        "# Visualize the correlation matrix using a heatmap\n",
        "fig_heatmap = go.Figure(data=go.Heatmap(\n",
        "                   z=correlation_matrix.values,\n",
        "                   x=correlation_matrix.columns,\n",
        "                   y=correlation_matrix.columns,\n",
        "                   colorscale='RdBu',\n",
        "                   colorbar=dict(title='Correlation')))\n",
        "\n",
        "fig_heatmap.update_layout(title='Correlation Matrix of RFM Values within Champions Segment')\n",
        "\n",
        "fig_heatmap.show()"
      ],
      "metadata": {
        "id": "ft7wz7BVsI9O"
      },
      "execution_count": null,
      "outputs": []
    },
    {
      "cell_type": "markdown",
      "source": [],
      "metadata": {
        "id": "FgvaQYOQsQO5"
      }
    },
    {
      "cell_type": "code",
      "source": [
        "# Visualize the number of customers in all segments by using column chart\n",
        "import plotly.colors\n",
        "\n",
        "pastel_colors = plotly.colors.qualitative.Pastel\n",
        "\n",
        "segment_counts = data['RFM Customer Segments'].value_counts()\n",
        "\n",
        "# Create a bar chart to compare segment counts\n",
        "fig = go.Figure(data=[go.Bar(x=segment_counts.index, y=segment_counts.values,\n",
        "                            marker=dict(color=pastel_colors))])\n",
        "\n",
        "# Set the color of the Champions segment as a different color\n",
        "champions_color = 'rgb(158, 202, 225)'\n",
        "fig.update_traces(marker_color=[champions_color if segment == 'Champions' else pastel_colors[i]\n",
        "                                for i, segment in enumerate(segment_counts.index)],\n",
        "                  marker_line_color='rgb(8, 48, 107)',\n",
        "                  marker_line_width=1.5, opacity=0.6)\n",
        "\n",
        "# Update the layout\n",
        "fig.update_layout(title='Comparison of RFM Segments',\n",
        "                  xaxis_title='RFM Segments',\n",
        "                  yaxis_title='Number of Customers',\n",
        "                  showlegend=False)\n",
        "\n",
        "fig.show()"
      ],
      "metadata": {
        "id": "EURc1fnjsQd8"
      },
      "execution_count": null,
      "outputs": []
    },
    {
      "cell_type": "markdown",
      "source": [],
      "metadata": {
        "id": "LM2A29ZYsTUI"
      }
    },
    {
      "cell_type": "code",
      "source": [
        "# Visualize the Recency, Frequency, Monetary scores within each segment\n",
        "# Calculate the average Recency, Frequency, and Monetary scores for each segment\n",
        "segment_scores = data.groupby('RFM Customer Segments')['RecencyScore', 'FrequencyScore', 'MonetaryScore'].mean().reset_index()\n",
        "\n",
        "# Create a grouped bar chart to compare segment scores\n",
        "fig = go.Figure()"
      ],
      "metadata": {
        "id": "1QPXQcZ0sToF"
      },
      "execution_count": null,
      "outputs": []
    },
    {
      "cell_type": "markdown",
      "source": [],
      "metadata": {
        "id": "gFRTtJwNsVoK"
      }
    },
    {
      "cell_type": "code",
      "source": [
        "# Add bars for Recency score\n",
        "fig.add_trace(go.Bar(\n",
        "    x=segment_scores['RFM Customer Segments'],\n",
        "    y=segment_scores['RecencyScore'],\n",
        "    name='Recency Score',\n",
        "    marker_color='rgb(158,202,225)'\n",
        "))"
      ],
      "metadata": {
        "id": "9x9Nl6HRsV30"
      },
      "execution_count": null,
      "outputs": []
    },
    {
      "cell_type": "markdown",
      "source": [],
      "metadata": {
        "id": "74xF1KXPsYEt"
      }
    },
    {
      "cell_type": "code",
      "source": [
        "# Add bars for Frequency score\n",
        "fig.add_trace(go.Bar(\n",
        "    x=segment_scores['RFM Customer Segments'],\n",
        "    y=segment_scores['FrequencyScore'],\n",
        "    name='Frequency Score',\n",
        "    marker_color='rgb(94,158,217)'\n",
        "))"
      ],
      "metadata": {
        "id": "bfqtqY-dsYa_"
      },
      "execution_count": null,
      "outputs": []
    },
    {
      "cell_type": "markdown",
      "source": [],
      "metadata": {
        "id": "YHhnmrbksaRx"
      }
    },
    {
      "cell_type": "code",
      "source": [
        "# Add bars for Monetary score\n",
        "fig.add_trace(go.Bar(\n",
        "    x=segment_scores['RFM Customer Segments'],\n",
        "    y=segment_scores['MonetaryScore'],\n",
        "    name='Monetary Score',\n",
        "    marker_color='rgb(32,102,148)'\n",
        "))"
      ],
      "metadata": {
        "id": "T-YWvpLosahm"
      },
      "execution_count": null,
      "outputs": []
    },
    {
      "cell_type": "markdown",
      "source": [],
      "metadata": {
        "id": "oRe3a-J5scE4"
      }
    },
    {
      "cell_type": "code",
      "source": [
        "# Update the layout\n",
        "fig.update_layout(\n",
        "    title='Comparison of RFM Segments based on Recency, Frequency, and Monetary Scores',\n",
        "    xaxis_title='RFM Segments',\n",
        "    yaxis_title='Score',\n",
        "    barmode='group',\n",
        "    showlegend=True\n",
        ")"
      ],
      "metadata": {
        "id": "A761Ai7jscZS"
      },
      "execution_count": null,
      "outputs": []
    },
    {
      "cell_type": "markdown",
      "source": [],
      "metadata": {
        "id": "8ZQwbnPrseKX"
      }
    },
    {
      "cell_type": "code",
      "source": [
        "fig.show()"
      ],
      "metadata": {
        "id": "DDpMJKZ_seiy"
      },
      "execution_count": null,
      "outputs": []
    },
    {
      "cell_type": "markdown",
      "source": [],
      "metadata": {
        "id": "mBSdJgcwsgUL"
      }
    }
  ]
}