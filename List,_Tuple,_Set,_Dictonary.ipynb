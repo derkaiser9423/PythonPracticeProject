{
  "nbformat": 4,
  "nbformat_minor": 0,
  "metadata": {
    "colab": {
      "provenance": [],
      "authorship_tag": "ABX9TyOkf205SYcX4W1qJkw7lOZz",
      "include_colab_link": true
    },
    "kernelspec": {
      "name": "python3",
      "display_name": "Python 3"
    },
    "language_info": {
      "name": "python"
    }
  },
  "cells": [
    {
      "cell_type": "markdown",
      "metadata": {
        "id": "view-in-github",
        "colab_type": "text"
      },
      "source": [
        "<a href=\"https://colab.research.google.com/github/derkaiser9423/PythonPracticeProject/blob/master/List%2C_Tuple%2C_Set%2C_Dictonary.ipynb\" target=\"_parent\"><img src=\"https://colab.research.google.com/assets/colab-badge.svg\" alt=\"Open In Colab\"/></a>"
      ]
    },
    {
      "cell_type": "markdown",
      "source": [
        "# How to create an empty list, set, tuple, or dictionary."
      ],
      "metadata": {
        "id": "mEihbUlS6y8l"
      }
    },
    {
      "cell_type": "code",
      "execution_count": null,
      "metadata": {
        "id": "MfVBpWTh6w98"
      },
      "outputs": [],
      "source": [
        "# Create an empty list\n",
        "list1 = [] # Square backets\n",
        "list2 = list() # List method"
      ]
    },
    {
      "cell_type": "code",
      "source": [
        "print(type(list1))\n",
        "print(type(list2))"
      ],
      "metadata": {
        "colab": {
          "base_uri": "https://localhost:8080/"
        },
        "id": "zHD7wv267DRE",
        "outputId": "e287bda5-d09d-42ee-8f45-12deefad3b4b"
      },
      "execution_count": null,
      "outputs": [
        {
          "output_type": "stream",
          "name": "stdout",
          "text": [
            "<class 'list'>\n",
            "<class 'list'>\n"
          ]
        }
      ]
    },
    {
      "cell_type": "code",
      "source": [
        "# Create an empty tuple\n",
        "tuple1 = () #  Parentheses\n",
        "tuple2 = tuple() # Tuple method"
      ],
      "metadata": {
        "id": "s_cZNoSg7TGf"
      },
      "execution_count": null,
      "outputs": []
    },
    {
      "cell_type": "code",
      "source": [
        "print(type(tuple1))\n",
        "print(type(tuple2))"
      ],
      "metadata": {
        "colab": {
          "base_uri": "https://localhost:8080/"
        },
        "id": "NVZaPShq7lM3",
        "outputId": "a6c5322c-ba59-4ab6-afdd-87859b955759"
      },
      "execution_count": null,
      "outputs": [
        {
          "output_type": "stream",
          "name": "stdout",
          "text": [
            "<class 'tuple'>\n",
            "<class 'tuple'>\n"
          ]
        }
      ]
    },
    {
      "cell_type": "code",
      "source": [
        "# Create an empty set\n",
        "set1 = {*()} # Asterisk with round brackets\n",
        "set2 = set() # Set method"
      ],
      "metadata": {
        "id": "plCTmMut7pTc"
      },
      "execution_count": null,
      "outputs": []
    },
    {
      "cell_type": "code",
      "source": [
        "print(type(set1))\n",
        "print(type(set2))"
      ],
      "metadata": {
        "colab": {
          "base_uri": "https://localhost:8080/"
        },
        "id": "HDIL5uiB8PIz",
        "outputId": "61114619-9c1c-401d-f86e-60df1cc5f6d4"
      },
      "execution_count": null,
      "outputs": [
        {
          "output_type": "stream",
          "name": "stdout",
          "text": [
            "<class 'set'>\n",
            "<class 'set'>\n"
          ]
        }
      ]
    },
    {
      "cell_type": "code",
      "source": [
        "# Create an empty dictionary\n",
        "dict1 = {} # Curly braces\n",
        "dict2 = dict() # Dict method"
      ],
      "metadata": {
        "id": "MwQFUdv68Sza"
      },
      "execution_count": null,
      "outputs": []
    },
    {
      "cell_type": "code",
      "source": [
        "print(type(dict1))\n",
        "print(type(dict2))"
      ],
      "metadata": {
        "colab": {
          "base_uri": "https://localhost:8080/"
        },
        "id": "P9zzXXkr84qj",
        "outputId": "6c2bdc9f-0003-4717-c0b7-1900fecda55c"
      },
      "execution_count": null,
      "outputs": [
        {
          "output_type": "stream",
          "name": "stdout",
          "text": [
            "<class 'dict'>\n",
            "<class 'dict'>\n"
          ]
        }
      ]
    },
    {
      "cell_type": "markdown",
      "source": [
        "# How to create non-empty list, tuple, set, or dictionary"
      ],
      "metadata": {
        "id": "FfMJkydl9i4v"
      }
    },
    {
      "cell_type": "code",
      "source": [
        "# List - mutable\n",
        "list1 = ['1', '2', '2', True, 3, 3, 4, 4] # A straightforward way to create a list with square brackets\n",
        "list2 = list(['1', '2', '2', True, 3, 3, 4, 4]) # The same to list1 above. A list created from... a list\n",
        "list3 = list(('1', '2', '2', True, 3, 3, 4, 4)) # That a tuple converted to a list using list method\n",
        "list4 = list({'1', '2', '2', True, 3, 3, 4, 4}) # That a set converted to a list using list method"
      ],
      "metadata": {
        "id": "NaZn3ccI9oyM"
      },
      "execution_count": null,
      "outputs": []
    },
    {
      "cell_type": "code",
      "source": [
        "print(list1)\n",
        "print(list2)\n",
        "print(list3)\n",
        "print(list4)"
      ],
      "metadata": {
        "colab": {
          "base_uri": "https://localhost:8080/"
        },
        "id": "0cVMQeDs-rNG",
        "outputId": "e5a0760d-c63d-4473-dbb0-a6e1efb1aee9"
      },
      "execution_count": null,
      "outputs": [
        {
          "output_type": "stream",
          "name": "stdout",
          "text": [
            "['1', '2', '2', True, 3, 3, 4, 4]\n",
            "['1', '2', '2', True, 3, 3, 4, 4]\n",
            "['1', '2', '2', True, 3, 3, 4, 4]\n",
            "[True, 3, 4, '2', '1']\n"
          ]
        }
      ]
    },
    {
      "cell_type": "markdown",
      "source": [
        "When using curly braces {}, first it is a set, then it is converted to a list. Therefore, as a set, only unique values present in list4."
      ],
      "metadata": {
        "id": "BXN9k2hJCXe7"
      }
    },
    {
      "cell_type": "code",
      "source": [
        "# Tuple - immutable\n",
        "tuple1 = ('1', '2', '2', True, 3, 3, 4, 4) # A straightforward way to create a tuple with parenthese\n",
        "tuple2 = tuple(('1', '2', '2', True, 3, 3, 4, 4)) # The same to tuple1 above. A tuple created from...a tuple\n",
        "tuple3 = tuple(['1', '2', '2', True, 3, 3, 4, 4]) # That a list converted to a tuple using tuple method\n",
        "tuple4 = tuple({'1', '2', '2', True, 3, 3, 4, 4}) # That a set converted to a tuple using tuple method"
      ],
      "metadata": {
        "id": "czRZrYAR-vKa"
      },
      "execution_count": null,
      "outputs": []
    },
    {
      "cell_type": "code",
      "source": [
        "print(tuple1)\n",
        "print(tuple2)\n",
        "print(tuple3)\n",
        "print(tuple4)"
      ],
      "metadata": {
        "colab": {
          "base_uri": "https://localhost:8080/"
        },
        "id": "Zh0usKlb_lkt",
        "outputId": "ecc41735-8a3b-4810-a7ad-2c1425e24191"
      },
      "execution_count": null,
      "outputs": [
        {
          "output_type": "stream",
          "name": "stdout",
          "text": [
            "('1', '2', '2', True, 3, 3, 4, 4)\n",
            "('1', '2', '2', True, 3, 3, 4, 4)\n",
            "('1', '2', '2', True, 3, 3, 4, 4)\n",
            "(True, 3, 4, '2', '1')\n"
          ]
        }
      ]
    },
    {
      "cell_type": "markdown",
      "source": [
        "When using curly braces {}, first it is a set, then it is converted to a tuple. Therefore, as a set, only unique values present in tuple4."
      ],
      "metadata": {
        "id": "a5X9phWXISge"
      }
    },
    {
      "cell_type": "code",
      "source": [
        "# Set - mutable\n",
        "set1 = {'1', '2', '2', True, 3, 3, 4, 4} # A straightforward way to create a set with curly braces\n",
        "set2 = set({'1', '2', '2', True, 3, 3, 4, 4}) # The same to set1 above. Create a set from a...set using set method\n",
        "set3 = set(('1', '2', '2', True, 3, 3, 4, 4)) # That a tuple converted to a set using set method\n",
        "set4 = set(['1', '2', '2', True, 3, 3, 4, 4]) # That a list converted to a set using set method"
      ],
      "metadata": {
        "id": "eBfMXcJX_wBz"
      },
      "execution_count": null,
      "outputs": []
    },
    {
      "cell_type": "code",
      "source": [
        "print(set1)\n",
        "print(set2)\n",
        "print(set3)\n",
        "print(set4)"
      ],
      "metadata": {
        "colab": {
          "base_uri": "https://localhost:8080/"
        },
        "id": "9MYYhu7zAJPW",
        "outputId": "bd2a9b94-739a-47b2-9478-0e36efb20194"
      },
      "execution_count": null,
      "outputs": [
        {
          "output_type": "stream",
          "name": "stdout",
          "text": [
            "{True, 3, 4, '2', '1'}\n",
            "{True, 3, 4, '2', '1'}\n",
            "{True, 3, 4, '2', '1'}\n",
            "{True, 3, 4, '2', '1'}\n"
          ]
        }
      ]
    },
    {
      "cell_type": "markdown",
      "source": [
        "Because a set does not allow duplicate values, all duplicate values are removed."
      ],
      "metadata": {
        "id": "vR_7toIlKAOJ"
      }
    },
    {
      "cell_type": "code",
      "source": [
        "# Dictionary - mutable\n",
        "dict1 = {1: \"Apple\", 2: \" Blueberry\", 3: \"Cucumber\"} # Assign pairs of key and according value to a variable as a dictionary\n",
        "dict2 = ({1: \"Apple\", 2: \" Blueberry\", 3: \"Cucumber\"}) # Use dict method with curly bracecs only. NOT square brackets or parentheses"
      ],
      "metadata": {
        "id": "hRrouLxqApV9"
      },
      "execution_count": null,
      "outputs": []
    },
    {
      "cell_type": "code",
      "source": [
        "print(dict1)\n",
        "print(dict2)"
      ],
      "metadata": {
        "colab": {
          "base_uri": "https://localhost:8080/"
        },
        "id": "akYMW1aUBWn2",
        "outputId": "968e4053-2f89-4c10-fb26-0184d17acce3"
      },
      "execution_count": null,
      "outputs": [
        {
          "output_type": "stream",
          "name": "stdout",
          "text": [
            "{1: 'Apple', 2: ' Blueberry', 3: 'Cucumber'}\n",
            "{1: 'Apple', 2: ' Blueberry', 3: 'Cucumber'}\n"
          ]
        }
      ]
    },
    {
      "cell_type": "markdown",
      "source": [
        "# Accessing data"
      ],
      "metadata": {
        "id": "2Ivbl6dDKOxD"
      }
    },
    {
      "cell_type": "code",
      "source": [
        "# Accessing data in a list\n",
        "print(list1)\n",
        "print(list1[0]) # Call the index. Here is the first value\n",
        "print(list1[-1]) # Call the backward index. Here is the last value\n",
        "print(list1[0:2]) # Call the range index. Here is from index 0 to 1. It returns a list of values"
      ],
      "metadata": {
        "colab": {
          "base_uri": "https://localhost:8080/"
        },
        "id": "_qk0USeLKRrL",
        "outputId": "f0b3fbb6-989e-419a-dbdf-8c8b9076fb4a"
      },
      "execution_count": null,
      "outputs": [
        {
          "output_type": "stream",
          "name": "stdout",
          "text": [
            "['1', '2', '2', True, 3, 3, 4, 4]\n",
            "1\n",
            "4\n",
            "['1', '2']\n"
          ]
        }
      ]
    },
    {
      "cell_type": "code",
      "source": [
        "# Accessing data in a tuple\n",
        "print(tuple1)\n",
        "print(tuple1[0]) # Call the index. Here is the first value\n",
        "print(tuple1[-1]) # Call the backward index. Here is the last value\n",
        "print(tuple1[0:3]) # Call the range index. Here is from index 0 to 2. It returns a tuple of values"
      ],
      "metadata": {
        "colab": {
          "base_uri": "https://localhost:8080/"
        },
        "id": "u-IhNixBK8Nr",
        "outputId": "2ba2aca3-708f-42a4-9599-bacb0be53244"
      },
      "execution_count": null,
      "outputs": [
        {
          "output_type": "stream",
          "name": "stdout",
          "text": [
            "('1', '2', '2', True, 3, 3, 4, 4)\n",
            "1\n",
            "4\n",
            "('1', '2', '2')\n"
          ]
        }
      ]
    },
    {
      "cell_type": "code",
      "source": [
        "# Accessing data in a set\n",
        "print(set1)\n",
        "# print(set1[0]) # Actually it does not work. A set is a set\n"
      ],
      "metadata": {
        "colab": {
          "base_uri": "https://localhost:8080/"
        },
        "id": "coD96ZUQLhyA",
        "outputId": "b9d346d0-267a-4279-e274-5289eb73755b"
      },
      "execution_count": null,
      "outputs": [
        {
          "output_type": "stream",
          "name": "stdout",
          "text": [
            "{True, 3, 4, '2', '1'}\n"
          ]
        }
      ]
    },
    {
      "cell_type": "code",
      "source": [
        "# Accessing data in a dictionary\n",
        "print(dict1)\n",
        "print(dict1[1]) # Access a value by using its key\n",
        "print(dict1.keys()) # Access to the list of all keys\n",
        "print(dict1.values()) # Access to the list of all values\n",
        "print(dict1.items()) # Access to the list of all pairs of key and value"
      ],
      "metadata": {
        "colab": {
          "base_uri": "https://localhost:8080/"
        },
        "id": "Xw6gDDpZL904",
        "outputId": "0be865e9-6d4a-4d26-9525-2fbc011b4d4c"
      },
      "execution_count": null,
      "outputs": [
        {
          "output_type": "stream",
          "name": "stdout",
          "text": [
            "{1: 'Apple', 2: ' Blueberry', 3: 'Cucumber'}\n",
            "Apple\n",
            "dict_keys([1, 2, 3])\n",
            "dict_values(['Apple', ' Blueberry', 'Cucumber'])\n",
            "dict_items([(1, 'Apple'), (2, ' Blueberry'), (3, 'Cucumber')])\n"
          ]
        }
      ]
    },
    {
      "cell_type": "markdown",
      "source": [
        "# Changing values"
      ],
      "metadata": {
        "id": "w_Lyh8w9NTtR"
      }
    },
    {
      "cell_type": "code",
      "source": [
        "# List - mutable\n",
        "print(list1)\n",
        "list1[0] = 100 # Assign new value to the current value. Here is the first value \"1\" to \"100\"\n",
        "print(list1)"
      ],
      "metadata": {
        "colab": {
          "base_uri": "https://localhost:8080/"
        },
        "id": "8J35WbdaNWJF",
        "outputId": "03356a11-1296-4be2-f76e-5cc28e73e08a"
      },
      "execution_count": null,
      "outputs": [
        {
          "output_type": "stream",
          "name": "stdout",
          "text": [
            "['1', '2', '2', True, 3, 3, 4, 4]\n",
            "[100, '2', '2', True, 3, 3, 4, 4]\n"
          ]
        }
      ]
    },
    {
      "cell_type": "markdown",
      "source": [
        "That is how you know list is mutable. You can change values in a current list."
      ],
      "metadata": {
        "id": "qmI14jR5Nwry"
      }
    },
    {
      "cell_type": "code",
      "source": [
        "# Tuple - immutable\n",
        "print(tuple1)\n",
        "# tuple1[-1] = True # It does not work\n"
      ],
      "metadata": {
        "colab": {
          "base_uri": "https://localhost:8080/"
        },
        "id": "PIfCFjM5NueZ",
        "outputId": "e5a82faf-38b7-4eca-a4a2-2c16c9edcf60"
      },
      "execution_count": null,
      "outputs": [
        {
          "output_type": "stream",
          "name": "stdout",
          "text": [
            "('1', '2', '2', True, 3, 3, 4, 4)\n"
          ]
        }
      ]
    },
    {
      "cell_type": "markdown",
      "source": [
        "That is how you know tuple is immutable. You cannot change values."
      ],
      "metadata": {
        "id": "M5YiJrSfON0Y"
      }
    },
    {
      "cell_type": "code",
      "source": [
        "# Set - immutable\n",
        "print(set1)\n",
        "# set1[0] = 1 # It does not work"
      ],
      "metadata": {
        "colab": {
          "base_uri": "https://localhost:8080/"
        },
        "id": "91VNuzMnOT5H",
        "outputId": "07c630e2-db29-4677-9c62-410810bf31f1"
      },
      "execution_count": null,
      "outputs": [
        {
          "output_type": "stream",
          "name": "stdout",
          "text": [
            "{True, 3, 4, '2', '1'}\n"
          ]
        }
      ]
    },
    {
      "cell_type": "markdown",
      "source": [
        "Set is immutable also. Again, set does not contain duplicate values."
      ],
      "metadata": {
        "id": "LhpBzAotOeM1"
      }
    },
    {
      "cell_type": "code",
      "source": [
        "# Dictionary - mutable\n",
        "print(dict1)\n",
        "dict1[1] = 'Orange' # Replace current value with its key. Here is the value with key '1'\n",
        "dict1[4] = dict1.pop(2) # Explanation below\n",
        "print(dict1)"
      ],
      "metadata": {
        "colab": {
          "base_uri": "https://localhost:8080/"
        },
        "id": "uX_BgulBOiKi",
        "outputId": "d105afbc-a196-42f1-ff05-302a0263aac3"
      },
      "execution_count": null,
      "outputs": [
        {
          "output_type": "stream",
          "name": "stdout",
          "text": [
            "{1: 'Apple', 3: 'Cucumber', 2: ' Blueberry'}\n",
            "{1: 'Orange', 3: 'Cucumber', 4: ' Blueberry'}\n"
          ]
        }
      ]
    },
    {
      "cell_type": "markdown",
      "source": [
        "Initially, dict1 contains key-value pairs {1: 'Apple', 2: 'Blueberry', 3: 'Cucumber'}.\n",
        "dict1.pop(2) removes the key-value pair associated with the key 2 (2: 'Blueberry') from dict1. The value 'Blueberry' is returned by pop() and removed from dict1.\n",
        "The returned value 'Blueberry' is then assigned to the key 4 in dict1, resulting in the dictionary dict1 containing {1: 'Apple', 3: 'Cucumber', 4: 'Blueberry'}."
      ],
      "metadata": {
        "id": "3MP6VBIcP2ya"
      }
    },
    {
      "cell_type": "markdown",
      "source": [
        "# Adding and removing values"
      ],
      "metadata": {
        "id": "TYj0aOBFQAH3"
      }
    },
    {
      "cell_type": "code",
      "source": [
        "# List - mutable\n",
        "print(list1)\n",
        "list1.append('d') # Add value 'd' to the end of the list using append method\n",
        "list1.pop(0) # Remove the first value of the list\n",
        "print(list1)"
      ],
      "metadata": {
        "colab": {
          "base_uri": "https://localhost:8080/"
        },
        "id": "c0RmHCWiQCof",
        "outputId": "09dd2564-2912-4d21-dbf8-ff08dbaa9646"
      },
      "execution_count": null,
      "outputs": [
        {
          "output_type": "stream",
          "name": "stdout",
          "text": [
            "[100, '2', '2', True, 3, 3, 4, 4, 'd']\n",
            "['2', '2', True, 3, 3, 4, 4, 'd', 'd']\n"
          ]
        }
      ]
    },
    {
      "cell_type": "markdown",
      "source": [
        "And you can only add new value to the end of the list."
      ],
      "metadata": {
        "id": "aPUWfAgcRKth"
      }
    },
    {
      "cell_type": "code",
      "source": [
        "# Tuple is immutable. So, forget about it"
      ],
      "metadata": {
        "id": "4Sv1uy1vQ1Do"
      },
      "execution_count": null,
      "outputs": []
    },
    {
      "cell_type": "code",
      "source": [
        "# Set - immutable. But we still can add or remove values\n",
        "print(set1)\n",
        "set1.add('000') # Add value '000' to the end of the set using add method. DIFFERENT from list using append method\n",
        "set1.pop() # Remove the first value of the set\n",
        "print(set1)\n"
      ],
      "metadata": {
        "colab": {
          "base_uri": "https://localhost:8080/"
        },
        "id": "r98DAHAPQ7l2",
        "outputId": "9c55063d-cc82-4d62-dd0f-318a9e6d4caf"
      },
      "execution_count": null,
      "outputs": [
        {
          "output_type": "stream",
          "name": "stdout",
          "text": [
            "{True, 3, 4, '2', '1'}\n",
            "{3, 4, '2', '1', '000'}\n"
          ]
        }
      ]
    },
    {
      "cell_type": "code",
      "source": [
        "# Dictionary - mutable\n",
        "print(dict1)\n",
        "dict1.update({2: \"Banana\"}) # Add new pair of key and value to the dictionary at the end of the dictionary\n",
        "dict1.pop(1) # Remove pair of key and value at the coresponding key. Here is the pair with key '1'\n",
        "print(dict1)"
      ],
      "metadata": {
        "colab": {
          "base_uri": "https://localhost:8080/"
        },
        "id": "3XCFhc79SVa4",
        "outputId": "fca80344-bd2a-4710-faf4-c4dd2e1936f2"
      },
      "execution_count": null,
      "outputs": [
        {
          "output_type": "stream",
          "name": "stdout",
          "text": [
            "{1: 'Orange', 3: 'Cucumber', 4: ' Blueberry'}\n",
            "{3: 'Cucumber', 4: ' Blueberry', 2: 'Banana'}\n"
          ]
        }
      ]
    },
    {
      "cell_type": "markdown",
      "source": [
        "# Sorting"
      ],
      "metadata": {
        "id": "6Dfs2lIuS9oE"
      }
    },
    {
      "cell_type": "code",
      "source": [
        "# All set, list, tuple, and dictionary can be sorted\n",
        "list10 = [10, 9, 8, 3, 2, 1]\n",
        "tuple10 = (10, 9, 8, 3, 2, 1)\n",
        "set10 = {10, 9, 8, 3, 2, 1}\n",
        "dict10 = {3: \"Banana\", 2: \"Zelon\", 4: \"Rolan\"}\n",
        "print(sorted(list10)) # Be aware! It cannot sort the Boolean values or different type values (e.g, int and str)\n",
        "print(sorted(tuple10))\n",
        "print(sorted(set10))\n",
        "print(sorted(dict10)) # It sorts the keys only\n",
        "print(sorted(dict10.items())) # Or you can add the items() method to list all pairs of sorted key and value\n",
        "\n",
        "# Also, you can use the sort() method with list\n",
        "list10.sort(reverse=True) # You can also use the reverse=True argument to sort descendingly\n",
        "print(list10)"
      ],
      "metadata": {
        "colab": {
          "base_uri": "https://localhost:8080/"
        },
        "id": "30XpS7oPS_f4",
        "outputId": "94610224-fbe0-42cc-a854-09d89b725fd5"
      },
      "execution_count": null,
      "outputs": [
        {
          "output_type": "stream",
          "name": "stdout",
          "text": [
            "[1, 2, 3, 8, 9, 10]\n",
            "[1, 2, 3, 8, 9, 10]\n",
            "[1, 2, 3, 8, 9, 10]\n",
            "[2, 3, 4]\n",
            "[(2, 'Zelon'), (3, 'Banana'), (4, 'Rolan')]\n",
            "[10, 9, 8, 3, 2, 1]\n"
          ]
        }
      ]
    }
  ]
}