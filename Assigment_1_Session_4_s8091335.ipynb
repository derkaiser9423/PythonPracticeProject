{
  "nbformat": 4,
  "nbformat_minor": 0,
  "metadata": {
    "colab": {
      "provenance": [],
      "authorship_tag": "ABX9TyP43LO6EGlHtriMGQFzwCP4",
      "include_colab_link": true
    },
    "kernelspec": {
      "name": "python3",
      "display_name": "Python 3"
    },
    "language_info": {
      "name": "python"
    }
  },
  "cells": [
    {
      "cell_type": "markdown",
      "metadata": {
        "id": "view-in-github",
        "colab_type": "text"
      },
      "source": [
        "<a href=\"https://colab.research.google.com/github/derkaiser9423/PythonPracticeProject/blob/master/Assigment_1_Session_4_s8091335.ipynb\" target=\"_parent\"><img src=\"https://colab.research.google.com/assets/colab-badge.svg\" alt=\"Open In Colab\"/></a>"
      ]
    },
    {
      "cell_type": "code",
      "source": [
        "from IPython import get_ipython\n",
        "get_ipython().magic('reset -sf')"
      ],
      "metadata": {
        "id": "qvTJqGoSpoa9"
      },
      "execution_count": 31,
      "outputs": []
    },
    {
      "cell_type": "code",
      "execution_count": 32,
      "metadata": {
        "id": "mYnHITxMRmkV",
        "colab": {
          "base_uri": "https://localhost:8080/"
        },
        "outputId": "6f9678ab-c853-4b10-9bbb-383c2364a9f0"
      },
      "outputs": [
        {
          "output_type": "stream",
          "name": "stderr",
          "text": [
            "[nltk_data] Downloading package vader_lexicon to /root/nltk_data...\n",
            "[nltk_data]   Package vader_lexicon is already up-to-date!\n"
          ]
        }
      ],
      "source": [
        "import pandas as pd\n",
        "import seaborn as sns\n",
        "import matplotlib.pyplot as plt\n",
        "import nltk\n",
        "nltk.download('vader_lexicon')\n",
        "from nltk.sentiment.vader import SentimentIntensityAnalyzer\n",
        "sentiments = SentimentIntensityAnalyzer()"
      ]
    },
    {
      "cell_type": "code",
      "source": [
        "df = pd.read_excel('Food_dataset.xlsx')\n",
        "print(df.head())"
      ],
      "metadata": {
        "id": "2c_jpWbGXOpn",
        "colab": {
          "base_uri": "https://localhost:8080/"
        },
        "outputId": "0738e9d8-5f4b-4163-e4eb-298d88f5df50"
      },
      "execution_count": 33,
      "outputs": [
        {
          "output_type": "stream",
          "name": "stdout",
          "text": [
            "   Item_id      Item   Store                                suplier  \\\n",
            "0     1122   Oranges  Grocery  Grocery Industries Australia Pty Ltd   \n",
            "1     1123    Apples  Orchard                Complete Food Services   \n",
            "2     1124   Bananas  Grocery                   Japan Foods Trading   \n",
            "3     1125   Lettuce   Market                       Basfoods Direct   \n",
            "4     1126  Tomatoes   Market               Kahvecioglu Grand Foods   \n",
            "\n",
            "    suplier location   quantity  Item sold  purchase price  total cost  \\\n",
            "0                 VIC    1618.0     1609.0            3.00      4854.0   \n",
            "1                NSW     1321.0     1312.0            2.00      2642.0   \n",
            "2          Queensland    2178.0     2169.0            1.50      3267.0   \n",
            "3            Tasmania     888.0      879.0            1.75      1554.0   \n",
            "4  Western Australia     2470.0     2461.0            2.00      4940.0   \n",
            "\n",
            "   sold price   Discounts  total sales        Date  Month Number Month Name  \\\n",
            "0         3.95          0       6355.55 2020-01-01             1    January   \n",
            "1         2.95          0       3870.40 2020-01-02             1    January   \n",
            "2         2.45          0       5314.05 2020-01-03             6       June   \n",
            "3         2.70          0       2373.30 2020-01-04             6       June   \n",
            "4         2.95          0       7259.95 2020-01-05             6       June   \n",
            "\n",
            "   Year  product feedback              other feedback  \n",
            "0  2020             agree        I like your product   \n",
            "1  2020          disagree  I don't like this product   \n",
            "2  2020    strongly agree  prodict not receive ontime  \n",
            "3  2020  strongly diagree             receive ontime   \n",
            "4  2020             agree        I like your product   \n"
          ]
        }
      ]
    },
    {
      "cell_type": "code",
      "source": [
        "df['product_feedback_score']=''\n",
        "print(df.head())"
      ],
      "metadata": {
        "colab": {
          "base_uri": "https://localhost:8080/"
        },
        "id": "1Jg6Y-zDrC0x",
        "outputId": "805815e6-eb00-46cf-caa6-65d262d3d431"
      },
      "execution_count": 34,
      "outputs": [
        {
          "output_type": "stream",
          "name": "stdout",
          "text": [
            "   Item_id      Item   Store                                suplier  \\\n",
            "0     1122   Oranges  Grocery  Grocery Industries Australia Pty Ltd   \n",
            "1     1123    Apples  Orchard                Complete Food Services   \n",
            "2     1124   Bananas  Grocery                   Japan Foods Trading   \n",
            "3     1125   Lettuce   Market                       Basfoods Direct   \n",
            "4     1126  Tomatoes   Market               Kahvecioglu Grand Foods   \n",
            "\n",
            "    suplier location   quantity  Item sold  purchase price  total cost  \\\n",
            "0                 VIC    1618.0     1609.0            3.00      4854.0   \n",
            "1                NSW     1321.0     1312.0            2.00      2642.0   \n",
            "2          Queensland    2178.0     2169.0            1.50      3267.0   \n",
            "3            Tasmania     888.0      879.0            1.75      1554.0   \n",
            "4  Western Australia     2470.0     2461.0            2.00      4940.0   \n",
            "\n",
            "   sold price   Discounts  total sales        Date  Month Number Month Name  \\\n",
            "0         3.95          0       6355.55 2020-01-01             1    January   \n",
            "1         2.95          0       3870.40 2020-01-02             1    January   \n",
            "2         2.45          0       5314.05 2020-01-03             6       June   \n",
            "3         2.70          0       2373.30 2020-01-04             6       June   \n",
            "4         2.95          0       7259.95 2020-01-05             6       June   \n",
            "\n",
            "   Year  product feedback              other feedback product_feedback_score  \n",
            "0  2020             agree        I like your product                          \n",
            "1  2020          disagree  I don't like this product                          \n",
            "2  2020    strongly agree  prodict not receive ontime                         \n",
            "3  2020  strongly diagree             receive ontime                          \n",
            "4  2020             agree        I like your product                          \n"
          ]
        }
      ]
    },
    {
      "cell_type": "code",
      "source": [
        "df.loc[df['product feedback'] == 'Extremely Poor', 'product_feedback_score'] = 1\n",
        "df.loc[df['product feedback'] == 'strongly diagree', 'product_feedback_score'] = 2\n",
        "df.loc[df['product feedback'] == 'disagree', 'product_feedback_score'] = 3\n",
        "df.loc[df['product feedback'] == 'agree', 'product_feedback_score'] = 4\n",
        "df.loc[df['product feedback'] == 'strongly agree', 'product_feedback_score'] = 5"
      ],
      "metadata": {
        "id": "GDRN-zqyrRUM"
      },
      "execution_count": 57,
      "outputs": []
    },
    {
      "cell_type": "code",
      "source": [
        "print(df.head())"
      ],
      "metadata": {
        "colab": {
          "base_uri": "https://localhost:8080/"
        },
        "id": "IfqSP6TKtKCY",
        "outputId": "8ba9ed2b-f172-4c83-c95b-5289da0943dc"
      },
      "execution_count": 36,
      "outputs": [
        {
          "output_type": "stream",
          "name": "stdout",
          "text": [
            "   Item_id      Item   Store                                suplier  \\\n",
            "0     1122   Oranges  Grocery  Grocery Industries Australia Pty Ltd   \n",
            "1     1123    Apples  Orchard                Complete Food Services   \n",
            "2     1124   Bananas  Grocery                   Japan Foods Trading   \n",
            "3     1125   Lettuce   Market                       Basfoods Direct   \n",
            "4     1126  Tomatoes   Market               Kahvecioglu Grand Foods   \n",
            "\n",
            "    suplier location   quantity  Item sold  purchase price  total cost  \\\n",
            "0                 VIC    1618.0     1609.0            3.00      4854.0   \n",
            "1                NSW     1321.0     1312.0            2.00      2642.0   \n",
            "2          Queensland    2178.0     2169.0            1.50      3267.0   \n",
            "3            Tasmania     888.0      879.0            1.75      1554.0   \n",
            "4  Western Australia     2470.0     2461.0            2.00      4940.0   \n",
            "\n",
            "   sold price   Discounts  total sales        Date  Month Number Month Name  \\\n",
            "0         3.95          0       6355.55 2020-01-01             1    January   \n",
            "1         2.95          0       3870.40 2020-01-02             1    January   \n",
            "2         2.45          0       5314.05 2020-01-03             6       June   \n",
            "3         2.70          0       2373.30 2020-01-04             6       June   \n",
            "4         2.95          0       7259.95 2020-01-05             6       June   \n",
            "\n",
            "   Year  product feedback              other feedback product_feedback_score  \n",
            "0  2020             agree        I like your product                       4  \n",
            "1  2020          disagree  I don't like this product                       3  \n",
            "2  2020    strongly agree  prodict not receive ontime                      5  \n",
            "3  2020  strongly diagree             receive ontime                       2  \n",
            "4  2020             agree        I like your product                       4  \n"
          ]
        }
      ]
    },
    {
      "cell_type": "code",
      "source": [
        "df['other feedback'] = df['other feedback'].astype(str)"
      ],
      "metadata": {
        "id": "jSsCi57YxKgR"
      },
      "execution_count": 41,
      "outputs": []
    },
    {
      "cell_type": "code",
      "source": [
        "nltk.download('stopwords')\n",
        "stemmer = nltk.SnowballStemmer(\"english\")\n",
        "from nltk.corpus import stopwords\n",
        "import string\n",
        "stopword=set(stopwords.words('english'))\n",
        "\n",
        "def clean(text):\n",
        "    text = str(text).lower()\n",
        "    text = re.sub('\\[.*?\\]', '', text)\n",
        "    text = re.sub('https?://\\S+|www\\.\\S+', '', text)\n",
        "    text = re.sub('<.*?>+', '', text)\n",
        "    text = re.sub('[%s]' % re.escape(string.punctuation), '', text)\n",
        "    text = re.sub('\\n', '', text)\n",
        "    text = re.sub('\\w*\\d\\w*', '', text)\n",
        "    text = [word for word in text.split(' ') if word not in stopword]\n",
        "    text=\" \".join(text)\n",
        "    text = [stemmer.stem(word) for word in text.split(' ')]\n",
        "    text=\" \".join(text)\n",
        "    return text\n",
        "df[\"other feedback\"] = df[\"other feedback\"].apply(clean)"
      ],
      "metadata": {
        "id": "WaV6OG4IYQxt",
        "colab": {
          "base_uri": "https://localhost:8080/"
        },
        "outputId": "f19d0b16-df77-4b5b-bcd6-bd18bf7e0c5a"
      },
      "execution_count": 42,
      "outputs": [
        {
          "output_type": "stream",
          "name": "stderr",
          "text": [
            "[nltk_data] Downloading package stopwords to /root/nltk_data...\n",
            "[nltk_data]   Package stopwords is already up-to-date!\n"
          ]
        }
      ]
    },
    {
      "cell_type": "code",
      "source": [
        "print(df.head())"
      ],
      "metadata": {
        "colab": {
          "base_uri": "https://localhost:8080/"
        },
        "id": "AKd6zNF8yL7h",
        "outputId": "591cd0c6-ee2b-4c78-e9b1-49aa02b64bd0"
      },
      "execution_count": 46,
      "outputs": [
        {
          "output_type": "stream",
          "name": "stdout",
          "text": [
            "   Item_id      Item   Store                                suplier  \\\n",
            "0     1122   Oranges  Grocery  Grocery Industries Australia Pty Ltd   \n",
            "1     1123    Apples  Orchard                Complete Food Services   \n",
            "2     1124   Bananas  Grocery                   Japan Foods Trading   \n",
            "3     1125   Lettuce   Market                       Basfoods Direct   \n",
            "4     1126  Tomatoes   Market               Kahvecioglu Grand Foods   \n",
            "\n",
            "    suplier location   quantity  Item sold  purchase price  total cost  \\\n",
            "0                 VIC    1618.0     1609.0            3.00      4854.0   \n",
            "1                NSW     1321.0     1312.0            2.00      2642.0   \n",
            "2          Queensland    2178.0     2169.0            1.50      3267.0   \n",
            "3            Tasmania     888.0      879.0            1.75      1554.0   \n",
            "4  Western Australia     2470.0     2461.0            2.00      4940.0   \n",
            "\n",
            "   sold price   Discounts  total sales        Date  Month Number Month Name  \\\n",
            "0         3.95          0       6355.55 2020-01-01             1    January   \n",
            "1         2.95          0       3870.40 2020-01-02             1    January   \n",
            "2         2.45          0       5314.05 2020-01-03             6       June   \n",
            "3         2.70          0       2373.30 2020-01-04             6       June   \n",
            "4         2.95          0       7259.95 2020-01-05             6       June   \n",
            "\n",
            "   Year  product feedback        other feedback product_feedback_score  \n",
            "0  2020             agree         like product                       4  \n",
            "1  2020          disagree    dont like product                       3  \n",
            "2  2020    strongly agree  prodict receiv ontim                      5  \n",
            "3  2020  strongly diagree         receiv ontim                       2  \n",
            "4  2020             agree         like product                       4  \n"
          ]
        }
      ]
    },
    {
      "cell_type": "code",
      "source": [
        "sentiments = SentimentIntensityAnalyzer()\n",
        "df[\"other feedback score\"] = [sentiments.polarity_scores(i)['compound'] for i in df['other feedback']]\n",
        "print(df.head())"
      ],
      "metadata": {
        "id": "xwrbOEqGYVvf",
        "colab": {
          "base_uri": "https://localhost:8080/"
        },
        "outputId": "f7f2585f-ec52-48ab-eea8-397230233193"
      },
      "execution_count": 51,
      "outputs": [
        {
          "output_type": "stream",
          "name": "stdout",
          "text": [
            "   Item_id      Item   Store                                suplier  \\\n",
            "0     1122   Oranges  Grocery  Grocery Industries Australia Pty Ltd   \n",
            "1     1123    Apples  Orchard                Complete Food Services   \n",
            "2     1124   Bananas  Grocery                   Japan Foods Trading   \n",
            "3     1125   Lettuce   Market                       Basfoods Direct   \n",
            "4     1126  Tomatoes   Market               Kahvecioglu Grand Foods   \n",
            "\n",
            "    suplier location   quantity  Item sold  purchase price  total cost  \\\n",
            "0                 VIC    1618.0     1609.0            3.00      4854.0   \n",
            "1                NSW     1321.0     1312.0            2.00      2642.0   \n",
            "2          Queensland    2178.0     2169.0            1.50      3267.0   \n",
            "3            Tasmania     888.0      879.0            1.75      1554.0   \n",
            "4  Western Australia     2470.0     2461.0            2.00      4940.0   \n",
            "\n",
            "   sold price   Discounts  total sales        Date  Month Number Month Name  \\\n",
            "0         3.95          0       6355.55 2020-01-01             1    January   \n",
            "1         2.95          0       3870.40 2020-01-02             1    January   \n",
            "2         2.45          0       5314.05 2020-01-03             6       June   \n",
            "3         2.70          0       2373.30 2020-01-04             6       June   \n",
            "4         2.95          0       7259.95 2020-01-05             6       June   \n",
            "\n",
            "   Year  product feedback        other feedback product_feedback_score  \\\n",
            "0  2020             agree         like product                       4   \n",
            "1  2020          disagree    dont like product                       3   \n",
            "2  2020    strongly agree  prodict receiv ontim                      5   \n",
            "3  2020  strongly diagree         receiv ontim                       2   \n",
            "4  2020             agree         like product                       4   \n",
            "\n",
            "   other feedback score  \n",
            "0                0.3612  \n",
            "1               -0.2755  \n",
            "2                0.0000  \n",
            "3                0.0000  \n",
            "4                0.3612  \n"
          ]
        }
      ]
    },
    {
      "cell_type": "code",
      "source": [
        "correlation = df['product_feedback_score'].corr(df['other feedback score'], method='spearman')\n",
        "\n",
        "print(\"Spearman rank correlation coefficient:\", correlation)"
      ],
      "metadata": {
        "colab": {
          "base_uri": "https://localhost:8080/"
        },
        "id": "hkWustjC1iCr",
        "outputId": "b2661338-9380-4a84-cecf-9c073d6da28c"
      },
      "execution_count": 55,
      "outputs": [
        {
          "output_type": "stream",
          "name": "stdout",
          "text": [
            "Spearman rank correlation coefficient: -0.019615060127736846\n"
          ]
        }
      ]
    },
    {
      "cell_type": "code",
      "source": [
        "sns.barplot(x=df['Item_id'], y=df['product_feedback_score'], data=df)\n",
        "plt.show()"
      ],
      "metadata": {
        "colab": {
          "base_uri": "https://localhost:8080/",
          "height": 450
        },
        "id": "ynkWm0f2_fdl",
        "outputId": "1555e8e1-5e26-49e5-c464-5b174e989b32"
      },
      "execution_count": 68,
      "outputs": [
        {
          "output_type": "display_data",
          "data": {
            "text/plain": [
              "<Figure size 640x480 with 1 Axes>"
            ],
            "image/png": "[encoded data removed]"
          },
          "metadata": {}
        }
      ]
    },
    {
      "cell_type": "code",
      "source": [
        "sns.barplot(x=df['Item_id'], y=df['other feedback score'], data=df)\n",
        "plt.show()"
      ],
      "metadata": {
        "colab": {
          "base_uri": "https://localhost:8080/",
          "height": 450
        },
        "id": "W5RjldeEA1a2",
        "outputId": "3058bf90-e36b-4d99-9963-ae5a770a94b4"
      },
      "execution_count": 69,
      "outputs": [
        {
          "output_type": "display_data",
          "data": {
            "text/plain": [
              "<Figure size 640x480 with 1 Axes>"
            ],
            "image/png": "[encoded data removed]"
          },
          "metadata": {}
        }
      ]
    },
    {
      "cell_type": "code",
      "source": [
        "df['product_feedback_score_1'] = ''\n",
        "df.loc[df['product feedback'] == 'Extremely Poor', 'product_feedback_score_1'] = -1\n",
        "df.loc[df['product feedback'] == 'strongly diagree', 'product_feedback_score_1'] = -1\n",
        "df.loc[df['product feedback'] == 'disagree', 'product_feedback_score_1'] = -1\n",
        "df.loc[df['product feedback'] == 'agree', 'product_feedback_score_1'] = 1\n",
        "df.loc[df['product feedback'] == 'strongly agree', 'product_feedback_score_1'] = 1"
      ],
      "metadata": {
        "id": "nNJI9JIo8zmq"
      },
      "execution_count": 58,
      "outputs": []
    },
    {
      "cell_type": "code",
      "source": [
        "sns.barplot(x=df['Item_id'], y=df['product_feedback_score_1'], data=df)\n",
        "plt.show()"
      ],
      "metadata": {
        "colab": {
          "base_uri": "https://localhost:8080/",
          "height": 450
        },
        "id": "6MU0WL2KCAQ8",
        "outputId": "5d1b1d34-6d12-435a-a287-45e0cd643dad"
      },
      "execution_count": 70,
      "outputs": [
        {
          "output_type": "display_data",
          "data": {
            "text/plain": [
              "<Figure size 640x480 with 1 Axes>"
            ],
            "image/png": "[encoded data removed]"
          },
          "metadata": {}
        }
      ]
    },
    {
      "cell_type": "code",
      "source": [
        "df['other_feedback_score_1'] = ''\n",
        "df.loc[df['other feedback score'] < 0, 'other feedback score 1'] = -1\n",
        "df.loc[df['other feedback score'] >= 0, 'other feedback score 1'] = 1"
      ],
      "metadata": {
        "id": "Q4yEaQoU9EMM"
      },
      "execution_count": 61,
      "outputs": []
    },
    {
      "cell_type": "code",
      "source": [
        "sns.barplot(x=df['Item_id'], y=df['other feedback score 1'], data=df)\n",
        "plt.show()"
      ],
      "metadata": {
        "colab": {
          "base_uri": "https://localhost:8080/",
          "height": 450
        },
        "id": "gvvouzsiCJEj",
        "outputId": "22ecb4a5-f949-43b7-af7a-fee94f05d14a"
      },
      "execution_count": 71,
      "outputs": [
        {
          "output_type": "display_data",
          "data": {
            "text/plain": [
              "<Figure size 640x480 with 1 Axes>"
            ],
            "image/png": "[encoded data removed]"
          },
          "metadata": {}
        }
      ]
    },
    {
      "cell_type": "code",
      "source": [
        "correlation = df['product_feedback_score_1'].corr(df['other feedback score 1'], method='spearman')\n",
        "\n",
        "print(\"Spearman rank correlation coefficient:\", correlation)"
      ],
      "metadata": {
        "colab": {
          "base_uri": "https://localhost:8080/"
        },
        "id": "Au18bprQ983D",
        "outputId": "483f9cd5-1c54-4b2e-8ecb-7f6c59a8144e"
      },
      "execution_count": 64,
      "outputs": [
        {
          "output_type": "stream",
          "name": "stdout",
          "text": [
            "Spearman rank correlation coefficient: 0.00619890189254449\n"
          ]
        }
      ]
    }
  ]
}